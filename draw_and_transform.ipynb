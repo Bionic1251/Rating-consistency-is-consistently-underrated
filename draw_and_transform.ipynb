{
 "cells": [
  {
   "cell_type": "markdown",
   "metadata": {
    "collapsed": true,
    "pycharm": {
     "name": "#%% md\n"
    }
   },
   "source": [
    "# Rating consistency is consistently underrated: An exploratory analysis of movie-tag rating inconsistency\n",
    "\n",
    "In this notebook, we generate charts for the corresponding paper and transforming data for its consequent regression analysis in R.\n",
    "\n",
    "1. Loading data\n",
    "2. Generating charts for general characteristics\n",
    "    1. How long ago did you watch [movie]?\n",
    "    2. To what degree do you agree with the statement \"it was easy for me to rate the tag [tag] for the movie [movie]\"?\n",
    "    4. On a scale from 1 to 5, how often do you watch movies that could be described as [tag]?\n",
    "    3. On a scale from 1 to 5, how familiar are you with the term [tag]?\n",
    "    4. On a scale from 1 to 5, how strongly does the tag [tag] apply to [movie]?\n",
    "    5. Rating per pair\n",
    "3. Generating charts for analysis\n",
    "    1. Preparing data\n",
    "        1. Cleaning the ratings\n",
    "        2. Merging data\n",
    "        3. Transforming data\n",
    "        4. Calculating the consistency field\n",
    "        5. Cleaning data\n",
    "        6. Converting data types\n",
    "    2. Generating charts\n",
    "        1. Correlation matrix\n",
    "        2. Proportions of consistent ratings per rating value and tag category\n",
    "        3. Distribution of ease of rating scores for each rating value (1-5) for each of the four tag categories\n",
    "        4. Distribution of ratings based on rating value and tag category\n",
    "4. Saving data for regression analysis in R"
   ]
  },
  {
   "cell_type": "code",
   "execution_count": 489,
   "outputs": [],
   "source": [
    "# imports\n",
    "\n",
    "import pandas as pd\n",
    "import math\n",
    "import seaborn as sns\n",
    "import matplotlib.pyplot as plt"
   ],
   "metadata": {
    "collapsed": false,
    "pycharm": {
     "name": "#%%\n"
    }
   }
  },
  {
   "cell_type": "markdown",
   "source": [
    "## Loading data"
   ],
   "metadata": {
    "collapsed": false,
    "pycharm": {
     "name": "#%% md\n"
    }
   }
  },
  {
   "cell_type": "code",
   "execution_count": 490,
   "outputs": [
    {
     "data": {
      "text/plain": "   UID                                   movie         tag  rating  \\\n0    3                          Titanic (1997)     romance       5   \n1    3  Monty Python and the Holy Grail (1975)    religion       4   \n2    3                       Fight Club (1999)  disturbing       4   \n3    3                        Toy Story (1995)       witty       5   \n4    3                     Blade Runner (1982)       space       3   \n\n                         easy  \n0              Strongly agree  \n1                       Agree  \n2  Neither agree nor disagree  \n3                       Agree  \n4  Neither agree nor disagree  ",
      "text/html": "<div>\n<style scoped>\n    .dataframe tbody tr th:only-of-type {\n        vertical-align: middle;\n    }\n\n    .dataframe tbody tr th {\n        vertical-align: top;\n    }\n\n    .dataframe thead th {\n        text-align: right;\n    }\n</style>\n<table border=\"1\" class=\"dataframe\">\n  <thead>\n    <tr style=\"text-align: right;\">\n      <th></th>\n      <th>UID</th>\n      <th>movie</th>\n      <th>tag</th>\n      <th>rating</th>\n      <th>easy</th>\n    </tr>\n  </thead>\n  <tbody>\n    <tr>\n      <th>0</th>\n      <td>3</td>\n      <td>Titanic (1997)</td>\n      <td>romance</td>\n      <td>5</td>\n      <td>Strongly agree</td>\n    </tr>\n    <tr>\n      <th>1</th>\n      <td>3</td>\n      <td>Monty Python and the Holy Grail (1975)</td>\n      <td>religion</td>\n      <td>4</td>\n      <td>Agree</td>\n    </tr>\n    <tr>\n      <th>2</th>\n      <td>3</td>\n      <td>Fight Club (1999)</td>\n      <td>disturbing</td>\n      <td>4</td>\n      <td>Neither agree nor disagree</td>\n    </tr>\n    <tr>\n      <th>3</th>\n      <td>3</td>\n      <td>Toy Story (1995)</td>\n      <td>witty</td>\n      <td>5</td>\n      <td>Agree</td>\n    </tr>\n    <tr>\n      <th>4</th>\n      <td>3</td>\n      <td>Blade Runner (1982)</td>\n      <td>space</td>\n      <td>3</td>\n      <td>Neither agree nor disagree</td>\n    </tr>\n  </tbody>\n</table>\n</div>"
     },
     "execution_count": 490,
     "metadata": {},
     "output_type": "execute_result"
    }
   ],
   "source": [
    "user_movie_tag = pd.read_csv(\"dataset/annotator_movie_tag.csv\")\n",
    "user_movie_tag.head()"
   ],
   "metadata": {
    "collapsed": false,
    "pycharm": {
     "name": "#%%\n"
    }
   }
  },
  {
   "cell_type": "code",
   "execution_count": 491,
   "outputs": [
    {
     "data": {
      "text/plain": "   UID                                   movie how_long_ago\n0    3                          Titanic (1997)        6to10\n1    3  Monty Python and the Holy Grail (1975)         1to5\n2    3                       Fight Club (1999)            1\n3    3                        Toy Story (1995)        6to10\n4    3                     Blade Runner (1982)         1to5",
      "text/html": "<div>\n<style scoped>\n    .dataframe tbody tr th:only-of-type {\n        vertical-align: middle;\n    }\n\n    .dataframe tbody tr th {\n        vertical-align: top;\n    }\n\n    .dataframe thead th {\n        text-align: right;\n    }\n</style>\n<table border=\"1\" class=\"dataframe\">\n  <thead>\n    <tr style=\"text-align: right;\">\n      <th></th>\n      <th>UID</th>\n      <th>movie</th>\n      <th>how_long_ago</th>\n    </tr>\n  </thead>\n  <tbody>\n    <tr>\n      <th>0</th>\n      <td>3</td>\n      <td>Titanic (1997)</td>\n      <td>6to10</td>\n    </tr>\n    <tr>\n      <th>1</th>\n      <td>3</td>\n      <td>Monty Python and the Holy Grail (1975)</td>\n      <td>1to5</td>\n    </tr>\n    <tr>\n      <th>2</th>\n      <td>3</td>\n      <td>Fight Club (1999)</td>\n      <td>1</td>\n    </tr>\n    <tr>\n      <th>3</th>\n      <td>3</td>\n      <td>Toy Story (1995)</td>\n      <td>6to10</td>\n    </tr>\n    <tr>\n      <th>4</th>\n      <td>3</td>\n      <td>Blade Runner (1982)</td>\n      <td>1to5</td>\n    </tr>\n  </tbody>\n</table>\n</div>"
     },
     "execution_count": 491,
     "metadata": {},
     "output_type": "execute_result"
    }
   ],
   "source": [
    "user_movie = pd.read_csv(\"dataset/annotator_movie.csv\")\n",
    "user_movie.head()"
   ],
   "metadata": {
    "collapsed": false,
    "pycharm": {
     "name": "#%%\n"
    }
   }
  },
  {
   "cell_type": "code",
   "execution_count": 492,
   "outputs": [
    {
     "data": {
      "text/plain": "   UID         tag  familiar  how_often    first         second      third\n0    3     romance         5          5     love  relationship   happiness\n1    3    religion         5          5  worship            god    pilgrim\n2    3  disturbing         5          5  fights            gore      blood\n3    3       witty         3          3   clever          smart      funny\n4    3       space         5          5    stars         galaxy     nebula",
      "text/html": "<div>\n<style scoped>\n    .dataframe tbody tr th:only-of-type {\n        vertical-align: middle;\n    }\n\n    .dataframe tbody tr th {\n        vertical-align: top;\n    }\n\n    .dataframe thead th {\n        text-align: right;\n    }\n</style>\n<table border=\"1\" class=\"dataframe\">\n  <thead>\n    <tr style=\"text-align: right;\">\n      <th></th>\n      <th>UID</th>\n      <th>tag</th>\n      <th>familiar</th>\n      <th>how_often</th>\n      <th>first</th>\n      <th>second</th>\n      <th>third</th>\n    </tr>\n  </thead>\n  <tbody>\n    <tr>\n      <th>0</th>\n      <td>3</td>\n      <td>romance</td>\n      <td>5</td>\n      <td>5</td>\n      <td>love</td>\n      <td>relationship</td>\n      <td>happiness</td>\n    </tr>\n    <tr>\n      <th>1</th>\n      <td>3</td>\n      <td>religion</td>\n      <td>5</td>\n      <td>5</td>\n      <td>worship</td>\n      <td>god</td>\n      <td>pilgrim</td>\n    </tr>\n    <tr>\n      <th>2</th>\n      <td>3</td>\n      <td>disturbing</td>\n      <td>5</td>\n      <td>5</td>\n      <td>fights</td>\n      <td>gore</td>\n      <td>blood</td>\n    </tr>\n    <tr>\n      <th>3</th>\n      <td>3</td>\n      <td>witty</td>\n      <td>3</td>\n      <td>3</td>\n      <td>clever</td>\n      <td>smart</td>\n      <td>funny</td>\n    </tr>\n    <tr>\n      <th>4</th>\n      <td>3</td>\n      <td>space</td>\n      <td>5</td>\n      <td>5</td>\n      <td>stars</td>\n      <td>galaxy</td>\n      <td>nebula</td>\n    </tr>\n  </tbody>\n</table>\n</div>"
     },
     "execution_count": 492,
     "metadata": {},
     "output_type": "execute_result"
    }
   ],
   "source": [
    "user_tag = pd.read_csv(\"dataset/annotator_tag.csv\")\n",
    "user_tag.head()"
   ],
   "metadata": {
    "collapsed": false,
    "pycharm": {
     "name": "#%%\n"
    }
   }
  },
  {
   "cell_type": "code",
   "execution_count": 493,
   "outputs": [
    {
     "data": {
      "text/plain": "         tag  label\n0     action      3\n1  adventure      3\n2     aliens      0\n3  animation      0\n4  art house      3",
      "text/html": "<div>\n<style scoped>\n    .dataframe tbody tr th:only-of-type {\n        vertical-align: middle;\n    }\n\n    .dataframe tbody tr th {\n        vertical-align: top;\n    }\n\n    .dataframe thead th {\n        text-align: right;\n    }\n</style>\n<table border=\"1\" class=\"dataframe\">\n  <thead>\n    <tr style=\"text-align: right;\">\n      <th></th>\n      <th>tag</th>\n      <th>label</th>\n    </tr>\n  </thead>\n  <tbody>\n    <tr>\n      <th>0</th>\n      <td>action</td>\n      <td>3</td>\n    </tr>\n    <tr>\n      <th>1</th>\n      <td>adventure</td>\n      <td>3</td>\n    </tr>\n    <tr>\n      <th>2</th>\n      <td>aliens</td>\n      <td>0</td>\n    </tr>\n    <tr>\n      <th>3</th>\n      <td>animation</td>\n      <td>0</td>\n    </tr>\n    <tr>\n      <th>4</th>\n      <td>art house</td>\n      <td>3</td>\n    </tr>\n  </tbody>\n</table>\n</div>"
     },
     "execution_count": 493,
     "metadata": {},
     "output_type": "execute_result"
    }
   ],
   "source": [
    "categories = pd.read_csv(\"dataset/categories.csv\")\n",
    "categories.head()"
   ],
   "metadata": {
    "collapsed": false,
    "pycharm": {
     "name": "#%%\n"
    }
   }
  },
  {
   "cell_type": "markdown",
   "source": [
    "### How long ago did you watch [movie]?"
   ],
   "metadata": {
    "collapsed": false,
    "pycharm": {
     "name": "#%% md\n"
    }
   }
  },
  {
   "cell_type": "code",
   "execution_count": 494,
   "outputs": [
    {
     "data": {
      "text/plain": "   index  how_long_ago\n0   1to5          1146\n1   gt10          1120\n2  6to10          1052\n3      1           613\n4     -1            91",
      "text/html": "<div>\n<style scoped>\n    .dataframe tbody tr th:only-of-type {\n        vertical-align: middle;\n    }\n\n    .dataframe tbody tr th {\n        vertical-align: top;\n    }\n\n    .dataframe thead th {\n        text-align: right;\n    }\n</style>\n<table border=\"1\" class=\"dataframe\">\n  <thead>\n    <tr style=\"text-align: right;\">\n      <th></th>\n      <th>index</th>\n      <th>how_long_ago</th>\n    </tr>\n  </thead>\n  <tbody>\n    <tr>\n      <th>0</th>\n      <td>1to5</td>\n      <td>1146</td>\n    </tr>\n    <tr>\n      <th>1</th>\n      <td>gt10</td>\n      <td>1120</td>\n    </tr>\n    <tr>\n      <th>2</th>\n      <td>6to10</td>\n      <td>1052</td>\n    </tr>\n    <tr>\n      <th>3</th>\n      <td>1</td>\n      <td>613</td>\n    </tr>\n    <tr>\n      <th>4</th>\n      <td>-1</td>\n      <td>91</td>\n    </tr>\n  </tbody>\n</table>\n</div>"
     },
     "execution_count": 494,
     "metadata": {},
     "output_type": "execute_result"
    }
   ],
   "source": [
    "how_long = user_movie.how_long_ago.value_counts().reset_index()\n",
    "how_long.head()"
   ],
   "metadata": {
    "collapsed": false,
    "pycharm": {
     "name": "#%%\n"
    }
   }
  },
  {
   "cell_type": "code",
   "execution_count": 495,
   "outputs": [
    {
     "data": {
      "text/plain": "     index  how_long_ago\n0   [1; 5]          1146\n1     > 10          1120\n2  [6; 10]          1052\n3   [0; 1)           613\n4       NA            91",
      "text/html": "<div>\n<style scoped>\n    .dataframe tbody tr th:only-of-type {\n        vertical-align: middle;\n    }\n\n    .dataframe tbody tr th {\n        vertical-align: top;\n    }\n\n    .dataframe thead th {\n        text-align: right;\n    }\n</style>\n<table border=\"1\" class=\"dataframe\">\n  <thead>\n    <tr style=\"text-align: right;\">\n      <th></th>\n      <th>index</th>\n      <th>how_long_ago</th>\n    </tr>\n  </thead>\n  <tbody>\n    <tr>\n      <th>0</th>\n      <td>[1; 5]</td>\n      <td>1146</td>\n    </tr>\n    <tr>\n      <th>1</th>\n      <td>&gt; 10</td>\n      <td>1120</td>\n    </tr>\n    <tr>\n      <th>2</th>\n      <td>[6; 10]</td>\n      <td>1052</td>\n    </tr>\n    <tr>\n      <th>3</th>\n      <td>[0; 1)</td>\n      <td>613</td>\n    </tr>\n    <tr>\n      <th>4</th>\n      <td>NA</td>\n      <td>91</td>\n    </tr>\n  </tbody>\n</table>\n</div>"
     },
     "execution_count": 495,
     "metadata": {},
     "output_type": "execute_result"
    }
   ],
   "source": [
    "how_long.loc[how_long[\"index\"] == \"1\", \"index\"] = \"[0; 1)\"\n",
    "how_long.loc[how_long[\"index\"] == \"1to5\", \"index\"] = \"[1; 5]\"\n",
    "how_long.loc[how_long[\"index\"] == \"6to10\", \"index\"] = \"[6; 10]\"\n",
    "how_long.loc[how_long[\"index\"] == \"gt10\", \"index\"] = \"> 10\"\n",
    "how_long.loc[how_long[\"index\"] == \"-1\", \"index\"] = \"NA\"\n",
    "how_long.head()"
   ],
   "metadata": {
    "collapsed": false,
    "pycharm": {
     "name": "#%%\n"
    }
   }
  },
  {
   "cell_type": "code",
   "execution_count": 496,
   "outputs": [
    {
     "data": {
      "text/plain": "<Figure size 288x288 with 1 Axes>",
      "image/png": "[encoded data removed]"
     },
     "metadata": {
      "needs_background": "light"
     },
     "output_type": "display_data"
    }
   ],
   "source": [
    "def draw_and_save_chart(ax, xlabel, ylabel, file_path, rotation=0):\n",
    "    ax.set_xlabel(xlabel, fontsize=15)\n",
    "    ax.set_ylabel(ylabel, fontsize=15)\n",
    "    ax.tick_params(labelsize=15)\n",
    "    plt.xticks(rotation=rotation)\n",
    "    plt.tight_layout()\n",
    "    plt.savefig(file_path)\n",
    "\n",
    "fig, ax = plt.subplots(figsize=(4, 4))\n",
    "sns.barplot(data=how_long, x=\"index\", y=\"how_long_ago\", color='#1E77B4', ax=ax, order=[\"[0; 1)\", \"[1; 5]\", \"[6; 10]\", \"> 10\", \"NA\"])\n",
    "draw_and_save_chart(ax, 'options', 'number of answers', 'charts/how_long_ago.pdf', rotation=90)"
   ],
   "metadata": {
    "collapsed": false,
    "pycharm": {
     "name": "#%%\n"
    }
   }
  },
  {
   "cell_type": "markdown",
   "source": [
    "### To what degree do you agree with the statement \"it was easy for me to rate the tag [tag] for the movie [movie]\"?"
   ],
   "metadata": {
    "collapsed": false,
    "pycharm": {
     "name": "#%% md\n"
    }
   }
  },
  {
   "cell_type": "code",
   "execution_count": 497,
   "outputs": [
    {
     "data": {
      "text/plain": "                        index  easy\n0                       Agree  1564\n1              Strongly agree  1146\n2  Neither agree nor disagree   626\n3                    Disagree   327\n4           Strongly disagree   161",
      "text/html": "<div>\n<style scoped>\n    .dataframe tbody tr th:only-of-type {\n        vertical-align: middle;\n    }\n\n    .dataframe tbody tr th {\n        vertical-align: top;\n    }\n\n    .dataframe thead th {\n        text-align: right;\n    }\n</style>\n<table border=\"1\" class=\"dataframe\">\n  <thead>\n    <tr style=\"text-align: right;\">\n      <th></th>\n      <th>index</th>\n      <th>easy</th>\n    </tr>\n  </thead>\n  <tbody>\n    <tr>\n      <th>0</th>\n      <td>Agree</td>\n      <td>1564</td>\n    </tr>\n    <tr>\n      <th>1</th>\n      <td>Strongly agree</td>\n      <td>1146</td>\n    </tr>\n    <tr>\n      <th>2</th>\n      <td>Neither agree nor disagree</td>\n      <td>626</td>\n    </tr>\n    <tr>\n      <th>3</th>\n      <td>Disagree</td>\n      <td>327</td>\n    </tr>\n    <tr>\n      <th>4</th>\n      <td>Strongly disagree</td>\n      <td>161</td>\n    </tr>\n  </tbody>\n</table>\n</div>"
     },
     "execution_count": 497,
     "metadata": {},
     "output_type": "execute_result"
    }
   ],
   "source": [
    "easy = user_movie_tag.easy.value_counts().reset_index()\n",
    "easy"
   ],
   "metadata": {
    "collapsed": false,
    "pycharm": {
     "name": "#%%\n"
    }
   }
  },
  {
   "cell_type": "code",
   "execution_count": 498,
   "outputs": [
    {
     "data": {
      "text/plain": "  index  easy\n0     4  1564\n1     5  1146\n2     3   626\n3     2   327\n4     1   161",
      "text/html": "<div>\n<style scoped>\n    .dataframe tbody tr th:only-of-type {\n        vertical-align: middle;\n    }\n\n    .dataframe tbody tr th {\n        vertical-align: top;\n    }\n\n    .dataframe thead th {\n        text-align: right;\n    }\n</style>\n<table border=\"1\" class=\"dataframe\">\n  <thead>\n    <tr style=\"text-align: right;\">\n      <th></th>\n      <th>index</th>\n      <th>easy</th>\n    </tr>\n  </thead>\n  <tbody>\n    <tr>\n      <th>0</th>\n      <td>4</td>\n      <td>1564</td>\n    </tr>\n    <tr>\n      <th>1</th>\n      <td>5</td>\n      <td>1146</td>\n    </tr>\n    <tr>\n      <th>2</th>\n      <td>3</td>\n      <td>626</td>\n    </tr>\n    <tr>\n      <th>3</th>\n      <td>2</td>\n      <td>327</td>\n    </tr>\n    <tr>\n      <th>4</th>\n      <td>1</td>\n      <td>161</td>\n    </tr>\n  </tbody>\n</table>\n</div>"
     },
     "execution_count": 498,
     "metadata": {},
     "output_type": "execute_result"
    }
   ],
   "source": [
    "easy.loc[easy[\"index\"] == \"Strongly agree\", \"index\"] = \"5\"\n",
    "easy.loc[easy[\"index\"] == \"Agree\", \"index\"] = \"4\"\n",
    "easy.loc[easy[\"index\"] == \"Neither agree nor disagree\", \"index\"] = \"3\"\n",
    "easy.loc[easy[\"index\"] == \"Disagree\", \"index\"] = \"2\"\n",
    "easy.loc[easy[\"index\"] == \"Strongly disagree\", \"index\"] = \"1\"\n",
    "easy.head()"
   ],
   "metadata": {
    "collapsed": false,
    "pycharm": {
     "name": "#%%\n"
    }
   }
  },
  {
   "cell_type": "code",
   "execution_count": 499,
   "outputs": [
    {
     "data": {
      "text/plain": "   index  easy\n1      5  1146\n0      4  1564\n2      3   626\n3      2   327\n4      1   161",
      "text/html": "<div>\n<style scoped>\n    .dataframe tbody tr th:only-of-type {\n        vertical-align: middle;\n    }\n\n    .dataframe tbody tr th {\n        vertical-align: top;\n    }\n\n    .dataframe thead th {\n        text-align: right;\n    }\n</style>\n<table border=\"1\" class=\"dataframe\">\n  <thead>\n    <tr style=\"text-align: right;\">\n      <th></th>\n      <th>index</th>\n      <th>easy</th>\n    </tr>\n  </thead>\n  <tbody>\n    <tr>\n      <th>1</th>\n      <td>5</td>\n      <td>1146</td>\n    </tr>\n    <tr>\n      <th>0</th>\n      <td>4</td>\n      <td>1564</td>\n    </tr>\n    <tr>\n      <th>2</th>\n      <td>3</td>\n      <td>626</td>\n    </tr>\n    <tr>\n      <th>3</th>\n      <td>2</td>\n      <td>327</td>\n    </tr>\n    <tr>\n      <th>4</th>\n      <td>1</td>\n      <td>161</td>\n    </tr>\n  </tbody>\n</table>\n</div>"
     },
     "execution_count": 499,
     "metadata": {},
     "output_type": "execute_result"
    }
   ],
   "source": [
    "easy[\"index\"] = easy[\"index\"].astype(int)\n",
    "easy = easy.sort_values(\"index\", ascending=False)\n",
    "easy"
   ],
   "metadata": {
    "collapsed": false,
    "pycharm": {
     "name": "#%%\n"
    }
   }
  },
  {
   "cell_type": "code",
   "execution_count": 500,
   "outputs": [
    {
     "data": {
      "text/plain": "<Figure size 288x288 with 1 Axes>",
      "image/png": "[encoded data removed]"
     },
     "metadata": {
      "needs_background": "light"
     },
     "output_type": "display_data"
    }
   ],
   "source": [
    "fig, ax = plt.subplots(figsize=(4, 4))\n",
    "sns.barplot(data=easy, x=\"index\", y=\"easy\", color='#1E77B4', ax=ax, order=easy[\"index\"])\n",
    "draw_and_save_chart(ax, 'options', 'number of answers', 'charts/easy.pdf', rotation=0)"
   ],
   "metadata": {
    "collapsed": false,
    "pycharm": {
     "name": "#%%\n"
    }
   }
  },
  {
   "cell_type": "markdown",
   "source": [
    "### On a scale from 1 to 5, how often do you watch movies that could be described as [tag]?"
   ],
   "metadata": {
    "collapsed": false,
    "pycharm": {
     "name": "#%% md\n"
    }
   }
  },
  {
   "cell_type": "code",
   "execution_count": 501,
   "outputs": [
    {
     "data": {
      "text/plain": "   index  how_often\n0      5       1264\n1      4        935\n2      3        736\n3      2        647\n4      1        181\n5     -1         61",
      "text/html": "<div>\n<style scoped>\n    .dataframe tbody tr th:only-of-type {\n        vertical-align: middle;\n    }\n\n    .dataframe tbody tr th {\n        vertical-align: top;\n    }\n\n    .dataframe thead th {\n        text-align: right;\n    }\n</style>\n<table border=\"1\" class=\"dataframe\">\n  <thead>\n    <tr style=\"text-align: right;\">\n      <th></th>\n      <th>index</th>\n      <th>how_often</th>\n    </tr>\n  </thead>\n  <tbody>\n    <tr>\n      <th>0</th>\n      <td>5</td>\n      <td>1264</td>\n    </tr>\n    <tr>\n      <th>1</th>\n      <td>4</td>\n      <td>935</td>\n    </tr>\n    <tr>\n      <th>2</th>\n      <td>3</td>\n      <td>736</td>\n    </tr>\n    <tr>\n      <th>3</th>\n      <td>2</td>\n      <td>647</td>\n    </tr>\n    <tr>\n      <th>4</th>\n      <td>1</td>\n      <td>181</td>\n    </tr>\n    <tr>\n      <th>5</th>\n      <td>-1</td>\n      <td>61</td>\n    </tr>\n  </tbody>\n</table>\n</div>"
     },
     "execution_count": 501,
     "metadata": {},
     "output_type": "execute_result"
    }
   ],
   "source": [
    "often = user_tag.how_often.value_counts().reset_index()\n",
    "often"
   ],
   "metadata": {
    "collapsed": false,
    "pycharm": {
     "name": "#%%\n"
    }
   }
  },
  {
   "cell_type": "code",
   "execution_count": 502,
   "outputs": [],
   "source": [
    "often = often.sort_values(\"index\", ascending=False)\n",
    "often.loc[often[\"index\"] == -1, \"index\"] = \"NA\""
   ],
   "metadata": {
    "collapsed": false,
    "pycharm": {
     "name": "#%%\n"
    }
   }
  },
  {
   "cell_type": "code",
   "execution_count": 503,
   "outputs": [
    {
     "data": {
      "text/plain": "<Figure size 288x288 with 1 Axes>",
      "image/png": "[encoded data removed]"
     },
     "metadata": {
      "needs_background": "light"
     },
     "output_type": "display_data"
    }
   ],
   "source": [
    "fig, ax = plt.subplots(figsize=(4, 4))\n",
    "sns.barplot(data=often, x=\"index\", y=\"how_often\", color='#1E77B4', ax=ax)\n",
    "draw_and_save_chart(ax, 'options', 'number of answers', 'charts/how_often.pdf', rotation=0)"
   ],
   "metadata": {
    "collapsed": false,
    "pycharm": {
     "name": "#%%\n"
    }
   }
  },
  {
   "cell_type": "markdown",
   "source": [
    "### On a scale from 1 to 5, how familiar are you with the term [tag]?"
   ],
   "metadata": {
    "collapsed": false,
    "pycharm": {
     "name": "#%% md\n"
    }
   }
  },
  {
   "cell_type": "code",
   "execution_count": 504,
   "outputs": [
    {
     "data": {
      "text/plain": "   index  familiar\n0      5      2332\n1      4       808\n2      3       378\n3      2       163\n4      1       104\n5     -1        39",
      "text/html": "<div>\n<style scoped>\n    .dataframe tbody tr th:only-of-type {\n        vertical-align: middle;\n    }\n\n    .dataframe tbody tr th {\n        vertical-align: top;\n    }\n\n    .dataframe thead th {\n        text-align: right;\n    }\n</style>\n<table border=\"1\" class=\"dataframe\">\n  <thead>\n    <tr style=\"text-align: right;\">\n      <th></th>\n      <th>index</th>\n      <th>familiar</th>\n    </tr>\n  </thead>\n  <tbody>\n    <tr>\n      <th>0</th>\n      <td>5</td>\n      <td>2332</td>\n    </tr>\n    <tr>\n      <th>1</th>\n      <td>4</td>\n      <td>808</td>\n    </tr>\n    <tr>\n      <th>2</th>\n      <td>3</td>\n      <td>378</td>\n    </tr>\n    <tr>\n      <th>3</th>\n      <td>2</td>\n      <td>163</td>\n    </tr>\n    <tr>\n      <th>4</th>\n      <td>1</td>\n      <td>104</td>\n    </tr>\n    <tr>\n      <th>5</th>\n      <td>-1</td>\n      <td>39</td>\n    </tr>\n  </tbody>\n</table>\n</div>"
     },
     "execution_count": 504,
     "metadata": {},
     "output_type": "execute_result"
    }
   ],
   "source": [
    "familiar = user_tag.familiar.value_counts().reset_index()\n",
    "familiar"
   ],
   "metadata": {
    "collapsed": false,
    "pycharm": {
     "name": "#%%\n"
    }
   }
  },
  {
   "cell_type": "code",
   "execution_count": 505,
   "outputs": [],
   "source": [
    "familiar = familiar.sort_values(\"index\", ascending=False)\n",
    "familiar.loc[familiar[\"index\"] == -1, \"index\"] = \"NA\""
   ],
   "metadata": {
    "collapsed": false,
    "pycharm": {
     "name": "#%%\n"
    }
   }
  },
  {
   "cell_type": "code",
   "execution_count": 506,
   "outputs": [
    {
     "data": {
      "text/plain": "<Figure size 288x288 with 1 Axes>",
      "image/png": "[encoded data removed]"
     },
     "metadata": {
      "needs_background": "light"
     },
     "output_type": "display_data"
    }
   ],
   "source": [
    "fig, ax = plt.subplots(figsize=(4, 4))\n",
    "sns.barplot(data=familiar, x=\"index\", y=\"familiar\", color='#1E77B4', ax=ax)\n",
    "draw_and_save_chart(ax, 'options', 'number of answers', 'charts/familiar.pdf', rotation=0)"
   ],
   "metadata": {
    "collapsed": false,
    "pycharm": {
     "name": "#%%\n"
    }
   }
  },
  {
   "cell_type": "markdown",
   "source": [
    "### On a scale from 1 to 5, how strongly does the tag [tag] apply to [movie]?"
   ],
   "metadata": {
    "collapsed": false,
    "pycharm": {
     "name": "#%% md\n"
    }
   }
  },
  {
   "cell_type": "code",
   "execution_count": 507,
   "outputs": [
    {
     "data": {
      "text/plain": "   index  rating\n0      5    1531\n1      4     821\n2      3     576\n3      1     520\n4      2     454\n5     -1     120",
      "text/html": "<div>\n<style scoped>\n    .dataframe tbody tr th:only-of-type {\n        vertical-align: middle;\n    }\n\n    .dataframe tbody tr th {\n        vertical-align: top;\n    }\n\n    .dataframe thead th {\n        text-align: right;\n    }\n</style>\n<table border=\"1\" class=\"dataframe\">\n  <thead>\n    <tr style=\"text-align: right;\">\n      <th></th>\n      <th>index</th>\n      <th>rating</th>\n    </tr>\n  </thead>\n  <tbody>\n    <tr>\n      <th>0</th>\n      <td>5</td>\n      <td>1531</td>\n    </tr>\n    <tr>\n      <th>1</th>\n      <td>4</td>\n      <td>821</td>\n    </tr>\n    <tr>\n      <th>2</th>\n      <td>3</td>\n      <td>576</td>\n    </tr>\n    <tr>\n      <th>3</th>\n      <td>1</td>\n      <td>520</td>\n    </tr>\n    <tr>\n      <th>4</th>\n      <td>2</td>\n      <td>454</td>\n    </tr>\n    <tr>\n      <th>5</th>\n      <td>-1</td>\n      <td>120</td>\n    </tr>\n  </tbody>\n</table>\n</div>"
     },
     "execution_count": 507,
     "metadata": {},
     "output_type": "execute_result"
    }
   ],
   "source": [
    "rating = user_movie_tag.rating.value_counts().reset_index()\n",
    "rating"
   ],
   "metadata": {
    "collapsed": false,
    "pycharm": {
     "name": "#%%\n"
    }
   }
  },
  {
   "cell_type": "code",
   "execution_count": 508,
   "outputs": [
    {
     "data": {
      "text/plain": "  index  rating\n0     5    1531\n1     4     821\n2     3     576\n4     2     454\n3     1     520\n5    NA     120",
      "text/html": "<div>\n<style scoped>\n    .dataframe tbody tr th:only-of-type {\n        vertical-align: middle;\n    }\n\n    .dataframe tbody tr th {\n        vertical-align: top;\n    }\n\n    .dataframe thead th {\n        text-align: right;\n    }\n</style>\n<table border=\"1\" class=\"dataframe\">\n  <thead>\n    <tr style=\"text-align: right;\">\n      <th></th>\n      <th>index</th>\n      <th>rating</th>\n    </tr>\n  </thead>\n  <tbody>\n    <tr>\n      <th>0</th>\n      <td>5</td>\n      <td>1531</td>\n    </tr>\n    <tr>\n      <th>1</th>\n      <td>4</td>\n      <td>821</td>\n    </tr>\n    <tr>\n      <th>2</th>\n      <td>3</td>\n      <td>576</td>\n    </tr>\n    <tr>\n      <th>4</th>\n      <td>2</td>\n      <td>454</td>\n    </tr>\n    <tr>\n      <th>3</th>\n      <td>1</td>\n      <td>520</td>\n    </tr>\n    <tr>\n      <th>5</th>\n      <td>NA</td>\n      <td>120</td>\n    </tr>\n  </tbody>\n</table>\n</div>"
     },
     "execution_count": 508,
     "metadata": {},
     "output_type": "execute_result"
    }
   ],
   "source": [
    "rating = rating.sort_values(\"index\", ascending=False)\n",
    "rating.loc[rating[\"index\"] == -1, \"index\"] = \"NA\"\n",
    "rating.head(20)"
   ],
   "metadata": {
    "collapsed": false,
    "pycharm": {
     "name": "#%%\n"
    }
   }
  },
  {
   "cell_type": "code",
   "execution_count": 509,
   "outputs": [
    {
     "data": {
      "text/plain": "<Figure size 288x288 with 1 Axes>",
      "image/png": "[encoded data removed]"
     },
     "metadata": {
      "needs_background": "light"
     },
     "output_type": "display_data"
    }
   ],
   "source": [
    "fig, ax = plt.subplots(figsize=(4, 4))\n",
    "sns.barplot(data=rating, x=\"index\", y=\"rating\", color='#1E77B4', ax=ax)\n",
    "draw_and_save_chart(ax, 'ratings', 'number of ratings', 'charts/rating.pdf', rotation=0)"
   ],
   "metadata": {
    "collapsed": false,
    "pycharm": {
     "name": "#%%\n"
    }
   }
  },
  {
   "cell_type": "markdown",
   "source": [
    "### Rating per pair"
   ],
   "metadata": {
    "collapsed": false,
    "pycharm": {
     "name": "#%% md\n"
    }
   }
  },
  {
   "cell_type": "code",
   "execution_count": 510,
   "outputs": [
    {
     "data": {
      "text/plain": "                                   movie            tag  UID\n0      Ace Ventura: Pet Detective (1994)         comedy   13\n1      Ace Ventura: Pet Detective (1994)  culture clash    9\n2      Ace Ventura: Pet Detective (1994)          drama    6\n3      Ace Ventura: Pet Detective (1994)       humorous    9\n4  Ace Ventura: When Nature Calls (1995)         stupid   15",
      "text/html": "<div>\n<style scoped>\n    .dataframe tbody tr th:only-of-type {\n        vertical-align: middle;\n    }\n\n    .dataframe tbody tr th {\n        vertical-align: top;\n    }\n\n    .dataframe thead th {\n        text-align: right;\n    }\n</style>\n<table border=\"1\" class=\"dataframe\">\n  <thead>\n    <tr style=\"text-align: right;\">\n      <th></th>\n      <th>movie</th>\n      <th>tag</th>\n      <th>UID</th>\n    </tr>\n  </thead>\n  <tbody>\n    <tr>\n      <th>0</th>\n      <td>Ace Ventura: Pet Detective (1994)</td>\n      <td>comedy</td>\n      <td>13</td>\n    </tr>\n    <tr>\n      <th>1</th>\n      <td>Ace Ventura: Pet Detective (1994)</td>\n      <td>culture clash</td>\n      <td>9</td>\n    </tr>\n    <tr>\n      <th>2</th>\n      <td>Ace Ventura: Pet Detective (1994)</td>\n      <td>drama</td>\n      <td>6</td>\n    </tr>\n    <tr>\n      <th>3</th>\n      <td>Ace Ventura: Pet Detective (1994)</td>\n      <td>humorous</td>\n      <td>9</td>\n    </tr>\n    <tr>\n      <th>4</th>\n      <td>Ace Ventura: When Nature Calls (1995)</td>\n      <td>stupid</td>\n      <td>15</td>\n    </tr>\n  </tbody>\n</table>\n</div>"
     },
     "execution_count": 510,
     "metadata": {},
     "output_type": "execute_result"
    }
   ],
   "source": [
    "movie_tag = user_movie_tag.groupby([\"movie\", \"tag\"]).UID.count().reset_index()\n",
    "movie_tag.head()"
   ],
   "metadata": {
    "collapsed": false,
    "pycharm": {
     "name": "#%%\n"
    }
   }
  },
  {
   "cell_type": "code",
   "execution_count": 511,
   "outputs": [
    {
     "data": {
      "text/plain": "<Figure size 288x288 with 1 Axes>",
      "image/png": "[encoded data removed]"
     },
     "metadata": {
      "needs_background": "light"
     },
     "output_type": "display_data"
    }
   ],
   "source": [
    "fig, ax = plt.subplots(figsize=(4, 4))\n",
    "sns.histplot(data=movie_tag, x=\"UID\", color='#1E77B4', ax=ax)\n",
    "draw_and_save_chart(ax, 'number of ratings', 'number of movie-tag pairs', 'charts/ratings_per_pair.pdf')"
   ],
   "metadata": {
    "collapsed": false,
    "pycharm": {
     "name": "#%%\n"
    }
   }
  },
  {
   "cell_type": "markdown",
   "source": [
    "## Generating charts for analysis\n",
    "### Preparing data\n",
    "#### Cleaning the ratings"
   ],
   "metadata": {
    "collapsed": false
   }
  },
  {
   "cell_type": "code",
   "execution_count": 512,
   "outputs": [
    {
     "data": {
      "text/plain": "   UID                                   movie         tag  rating  \\\n0    3                          Titanic (1997)     romance       5   \n1    3  Monty Python and the Holy Grail (1975)    religion       4   \n2    3                       Fight Club (1999)  disturbing       4   \n3    3                        Toy Story (1995)       witty       5   \n4    3                     Blade Runner (1982)       space       3   \n\n                         easy  \n0              Strongly agree  \n1                       Agree  \n2  Neither agree nor disagree  \n3                       Agree  \n4  Neither agree nor disagree  ",
      "text/html": "<div>\n<style scoped>\n    .dataframe tbody tr th:only-of-type {\n        vertical-align: middle;\n    }\n\n    .dataframe tbody tr th {\n        vertical-align: top;\n    }\n\n    .dataframe thead th {\n        text-align: right;\n    }\n</style>\n<table border=\"1\" class=\"dataframe\">\n  <thead>\n    <tr style=\"text-align: right;\">\n      <th></th>\n      <th>UID</th>\n      <th>movie</th>\n      <th>tag</th>\n      <th>rating</th>\n      <th>easy</th>\n    </tr>\n  </thead>\n  <tbody>\n    <tr>\n      <th>0</th>\n      <td>3</td>\n      <td>Titanic (1997)</td>\n      <td>romance</td>\n      <td>5</td>\n      <td>Strongly agree</td>\n    </tr>\n    <tr>\n      <th>1</th>\n      <td>3</td>\n      <td>Monty Python and the Holy Grail (1975)</td>\n      <td>religion</td>\n      <td>4</td>\n      <td>Agree</td>\n    </tr>\n    <tr>\n      <th>2</th>\n      <td>3</td>\n      <td>Fight Club (1999)</td>\n      <td>disturbing</td>\n      <td>4</td>\n      <td>Neither agree nor disagree</td>\n    </tr>\n    <tr>\n      <th>3</th>\n      <td>3</td>\n      <td>Toy Story (1995)</td>\n      <td>witty</td>\n      <td>5</td>\n      <td>Agree</td>\n    </tr>\n    <tr>\n      <th>4</th>\n      <td>3</td>\n      <td>Blade Runner (1982)</td>\n      <td>space</td>\n      <td>3</td>\n      <td>Neither agree nor disagree</td>\n    </tr>\n  </tbody>\n</table>\n</div>"
     },
     "execution_count": 512,
     "metadata": {},
     "output_type": "execute_result"
    }
   ],
   "source": [
    "user_movie_tag = user_movie_tag[user_movie_tag.rating != -1]\n",
    "user_movie_tag.head()"
   ],
   "metadata": {
    "collapsed": false,
    "pycharm": {
     "name": "#%%\n"
    }
   }
  },
  {
   "cell_type": "markdown",
   "source": [
    "#### Merging data"
   ],
   "metadata": {
    "collapsed": false,
    "pycharm": {
     "name": "#%% md\n"
    }
   }
  },
  {
   "cell_type": "code",
   "execution_count": 513,
   "outputs": [
    {
     "data": {
      "text/plain": "   UID                                   movie         tag  rating  \\\n0    3                          Titanic (1997)     romance       5   \n1    3  Monty Python and the Holy Grail (1975)    religion       4   \n2    3                       Fight Club (1999)  disturbing       4   \n3    3                        Toy Story (1995)       witty       5   \n4    3                     Blade Runner (1982)       space       3   \n\n                         easy how_long_ago  \n0              Strongly agree        6to10  \n1                       Agree         1to5  \n2  Neither agree nor disagree            1  \n3                       Agree        6to10  \n4  Neither agree nor disagree         1to5  ",
      "text/html": "<div>\n<style scoped>\n    .dataframe tbody tr th:only-of-type {\n        vertical-align: middle;\n    }\n\n    .dataframe tbody tr th {\n        vertical-align: top;\n    }\n\n    .dataframe thead th {\n        text-align: right;\n    }\n</style>\n<table border=\"1\" class=\"dataframe\">\n  <thead>\n    <tr style=\"text-align: right;\">\n      <th></th>\n      <th>UID</th>\n      <th>movie</th>\n      <th>tag</th>\n      <th>rating</th>\n      <th>easy</th>\n      <th>how_long_ago</th>\n    </tr>\n  </thead>\n  <tbody>\n    <tr>\n      <th>0</th>\n      <td>3</td>\n      <td>Titanic (1997)</td>\n      <td>romance</td>\n      <td>5</td>\n      <td>Strongly agree</td>\n      <td>6to10</td>\n    </tr>\n    <tr>\n      <th>1</th>\n      <td>3</td>\n      <td>Monty Python and the Holy Grail (1975)</td>\n      <td>religion</td>\n      <td>4</td>\n      <td>Agree</td>\n      <td>1to5</td>\n    </tr>\n    <tr>\n      <th>2</th>\n      <td>3</td>\n      <td>Fight Club (1999)</td>\n      <td>disturbing</td>\n      <td>4</td>\n      <td>Neither agree nor disagree</td>\n      <td>1</td>\n    </tr>\n    <tr>\n      <th>3</th>\n      <td>3</td>\n      <td>Toy Story (1995)</td>\n      <td>witty</td>\n      <td>5</td>\n      <td>Agree</td>\n      <td>6to10</td>\n    </tr>\n    <tr>\n      <th>4</th>\n      <td>3</td>\n      <td>Blade Runner (1982)</td>\n      <td>space</td>\n      <td>3</td>\n      <td>Neither agree nor disagree</td>\n      <td>1to5</td>\n    </tr>\n  </tbody>\n</table>\n</div>"
     },
     "execution_count": 513,
     "metadata": {},
     "output_type": "execute_result"
    }
   ],
   "source": [
    "user_movie_tag = pd.merge(user_movie_tag, user_movie, on=[\"UID\", \"movie\"], how=\"inner\")\n",
    "user_movie_tag.head()"
   ],
   "metadata": {
    "collapsed": false,
    "pycharm": {
     "name": "#%%\n"
    }
   }
  },
  {
   "cell_type": "code",
   "execution_count": 514,
   "outputs": [
    {
     "data": {
      "text/plain": "   UID                                   movie         tag  rating  \\\n0    3                          Titanic (1997)     romance       5   \n1    3  Monty Python and the Holy Grail (1975)    religion       4   \n2    3                       Fight Club (1999)  disturbing       4   \n3    3                        Toy Story (1995)       witty       5   \n4    3                     Blade Runner (1982)       space       3   \n\n                         easy how_long_ago  familiar  how_often    first  \\\n0              Strongly agree        6to10         5          5     love   \n1                       Agree         1to5         5          5  worship   \n2  Neither agree nor disagree            1         5          5  fights    \n3                       Agree        6to10         3          3   clever   \n4  Neither agree nor disagree         1to5         5          5    stars   \n\n          second      third  \n0  relationship   happiness  \n1            god    pilgrim  \n2           gore      blood  \n3          smart      funny  \n4         galaxy     nebula  ",
      "text/html": "<div>\n<style scoped>\n    .dataframe tbody tr th:only-of-type {\n        vertical-align: middle;\n    }\n\n    .dataframe tbody tr th {\n        vertical-align: top;\n    }\n\n    .dataframe thead th {\n        text-align: right;\n    }\n</style>\n<table border=\"1\" class=\"dataframe\">\n  <thead>\n    <tr style=\"text-align: right;\">\n      <th></th>\n      <th>UID</th>\n      <th>movie</th>\n      <th>tag</th>\n      <th>rating</th>\n      <th>easy</th>\n      <th>how_long_ago</th>\n      <th>familiar</th>\n      <th>how_often</th>\n      <th>first</th>\n      <th>second</th>\n      <th>third</th>\n    </tr>\n  </thead>\n  <tbody>\n    <tr>\n      <th>0</th>\n      <td>3</td>\n      <td>Titanic (1997)</td>\n      <td>romance</td>\n      <td>5</td>\n      <td>Strongly agree</td>\n      <td>6to10</td>\n      <td>5</td>\n      <td>5</td>\n      <td>love</td>\n      <td>relationship</td>\n      <td>happiness</td>\n    </tr>\n    <tr>\n      <th>1</th>\n      <td>3</td>\n      <td>Monty Python and the Holy Grail (1975)</td>\n      <td>religion</td>\n      <td>4</td>\n      <td>Agree</td>\n      <td>1to5</td>\n      <td>5</td>\n      <td>5</td>\n      <td>worship</td>\n      <td>god</td>\n      <td>pilgrim</td>\n    </tr>\n    <tr>\n      <th>2</th>\n      <td>3</td>\n      <td>Fight Club (1999)</td>\n      <td>disturbing</td>\n      <td>4</td>\n      <td>Neither agree nor disagree</td>\n      <td>1</td>\n      <td>5</td>\n      <td>5</td>\n      <td>fights</td>\n      <td>gore</td>\n      <td>blood</td>\n    </tr>\n    <tr>\n      <th>3</th>\n      <td>3</td>\n      <td>Toy Story (1995)</td>\n      <td>witty</td>\n      <td>5</td>\n      <td>Agree</td>\n      <td>6to10</td>\n      <td>3</td>\n      <td>3</td>\n      <td>clever</td>\n      <td>smart</td>\n      <td>funny</td>\n    </tr>\n    <tr>\n      <th>4</th>\n      <td>3</td>\n      <td>Blade Runner (1982)</td>\n      <td>space</td>\n      <td>3</td>\n      <td>Neither agree nor disagree</td>\n      <td>1to5</td>\n      <td>5</td>\n      <td>5</td>\n      <td>stars</td>\n      <td>galaxy</td>\n      <td>nebula</td>\n    </tr>\n  </tbody>\n</table>\n</div>"
     },
     "execution_count": 514,
     "metadata": {},
     "output_type": "execute_result"
    }
   ],
   "source": [
    "user_movie_tag = pd.merge(user_movie_tag, user_tag, on=[\"UID\", \"tag\"], how=\"inner\")\n",
    "user_movie_tag.head()"
   ],
   "metadata": {
    "collapsed": false,
    "pycharm": {
     "name": "#%%\n"
    }
   }
  },
  {
   "cell_type": "code",
   "execution_count": 515,
   "outputs": [
    {
     "data": {
      "text/plain": "   UID                movie      tag  rating                        easy  \\\n0    3       Titanic (1997)  romance       5              Strongly agree   \n1   31       Titanic (1997)  romance       2  Neither agree nor disagree   \n2   53       Titanic (1997)  romance       5                         NaN   \n3   53  Pretty Woman (1990)  romance       5              Strongly agree   \n4   64       Titanic (1997)  romance       5              Strongly agree   \n\n  how_long_ago  familiar  how_often      first         second         third  \\\n0        6to10         5          5       love  relationship      happiness   \n1         gt10         5          4       love         couple        family   \n2        6to10         5          4       love   good endings  family movie   \n3        6to10         5          4       love   good endings  family movie   \n4         gt10         5          4  Love bird          Blind    Puppy Love   \n\n   label  \n0      3  \n1      3  \n2      3  \n3      3  \n4      3  ",
      "text/html": "<div>\n<style scoped>\n    .dataframe tbody tr th:only-of-type {\n        vertical-align: middle;\n    }\n\n    .dataframe tbody tr th {\n        vertical-align: top;\n    }\n\n    .dataframe thead th {\n        text-align: right;\n    }\n</style>\n<table border=\"1\" class=\"dataframe\">\n  <thead>\n    <tr style=\"text-align: right;\">\n      <th></th>\n      <th>UID</th>\n      <th>movie</th>\n      <th>tag</th>\n      <th>rating</th>\n      <th>easy</th>\n      <th>how_long_ago</th>\n      <th>familiar</th>\n      <th>how_often</th>\n      <th>first</th>\n      <th>second</th>\n      <th>third</th>\n      <th>label</th>\n    </tr>\n  </thead>\n  <tbody>\n    <tr>\n      <th>0</th>\n      <td>3</td>\n      <td>Titanic (1997)</td>\n      <td>romance</td>\n      <td>5</td>\n      <td>Strongly agree</td>\n      <td>6to10</td>\n      <td>5</td>\n      <td>5</td>\n      <td>love</td>\n      <td>relationship</td>\n      <td>happiness</td>\n      <td>3</td>\n    </tr>\n    <tr>\n      <th>1</th>\n      <td>31</td>\n      <td>Titanic (1997)</td>\n      <td>romance</td>\n      <td>2</td>\n      <td>Neither agree nor disagree</td>\n      <td>gt10</td>\n      <td>5</td>\n      <td>4</td>\n      <td>love</td>\n      <td>couple</td>\n      <td>family</td>\n      <td>3</td>\n    </tr>\n    <tr>\n      <th>2</th>\n      <td>53</td>\n      <td>Titanic (1997)</td>\n      <td>romance</td>\n      <td>5</td>\n      <td>NaN</td>\n      <td>6to10</td>\n      <td>5</td>\n      <td>4</td>\n      <td>love</td>\n      <td>good endings</td>\n      <td>family movie</td>\n      <td>3</td>\n    </tr>\n    <tr>\n      <th>3</th>\n      <td>53</td>\n      <td>Pretty Woman (1990)</td>\n      <td>romance</td>\n      <td>5</td>\n      <td>Strongly agree</td>\n      <td>6to10</td>\n      <td>5</td>\n      <td>4</td>\n      <td>love</td>\n      <td>good endings</td>\n      <td>family movie</td>\n      <td>3</td>\n    </tr>\n    <tr>\n      <th>4</th>\n      <td>64</td>\n      <td>Titanic (1997)</td>\n      <td>romance</td>\n      <td>5</td>\n      <td>Strongly agree</td>\n      <td>gt10</td>\n      <td>5</td>\n      <td>4</td>\n      <td>Love bird</td>\n      <td>Blind</td>\n      <td>Puppy Love</td>\n      <td>3</td>\n    </tr>\n  </tbody>\n</table>\n</div>"
     },
     "execution_count": 515,
     "metadata": {},
     "output_type": "execute_result"
    }
   ],
   "source": [
    "user_movie_tag = pd.merge(user_movie_tag, categories, on=\"tag\", how=\"inner\")\n",
    "user_movie_tag.head()"
   ],
   "metadata": {
    "collapsed": false,
    "pycharm": {
     "name": "#%%\n"
    }
   }
  },
  {
   "cell_type": "markdown",
   "source": [
    "#### Transforming data"
   ],
   "metadata": {
    "collapsed": false,
    "pycharm": {
     "name": "#%% md\n"
    }
   }
  },
  {
   "cell_type": "code",
   "execution_count": 516,
   "outputs": [
    {
     "data": {
      "text/plain": "   UID                movie      tag  rating  easy how_long_ago  familiar  \\\n0    3       Titanic (1997)  romance       5   5.0        6to10         5   \n1   31       Titanic (1997)  romance       2   3.0         gt10         5   \n2   53       Titanic (1997)  romance       5   NaN        6to10         5   \n3   53  Pretty Woman (1990)  romance       5   5.0        6to10         5   \n4   64       Titanic (1997)  romance       5   5.0         gt10         5   \n\n   how_often      first         second         third  label  \n0          5       love  relationship      happiness      3  \n1          4       love         couple        family      3  \n2          4       love   good endings  family movie      3  \n3          4       love   good endings  family movie      3  \n4          4  Love bird          Blind    Puppy Love      3  ",
      "text/html": "<div>\n<style scoped>\n    .dataframe tbody tr th:only-of-type {\n        vertical-align: middle;\n    }\n\n    .dataframe tbody tr th {\n        vertical-align: top;\n    }\n\n    .dataframe thead th {\n        text-align: right;\n    }\n</style>\n<table border=\"1\" class=\"dataframe\">\n  <thead>\n    <tr style=\"text-align: right;\">\n      <th></th>\n      <th>UID</th>\n      <th>movie</th>\n      <th>tag</th>\n      <th>rating</th>\n      <th>easy</th>\n      <th>how_long_ago</th>\n      <th>familiar</th>\n      <th>how_often</th>\n      <th>first</th>\n      <th>second</th>\n      <th>third</th>\n      <th>label</th>\n    </tr>\n  </thead>\n  <tbody>\n    <tr>\n      <th>0</th>\n      <td>3</td>\n      <td>Titanic (1997)</td>\n      <td>romance</td>\n      <td>5</td>\n      <td>5.0</td>\n      <td>6to10</td>\n      <td>5</td>\n      <td>5</td>\n      <td>love</td>\n      <td>relationship</td>\n      <td>happiness</td>\n      <td>3</td>\n    </tr>\n    <tr>\n      <th>1</th>\n      <td>31</td>\n      <td>Titanic (1997)</td>\n      <td>romance</td>\n      <td>2</td>\n      <td>3.0</td>\n      <td>gt10</td>\n      <td>5</td>\n      <td>4</td>\n      <td>love</td>\n      <td>couple</td>\n      <td>family</td>\n      <td>3</td>\n    </tr>\n    <tr>\n      <th>2</th>\n      <td>53</td>\n      <td>Titanic (1997)</td>\n      <td>romance</td>\n      <td>5</td>\n      <td>NaN</td>\n      <td>6to10</td>\n      <td>5</td>\n      <td>4</td>\n      <td>love</td>\n      <td>good endings</td>\n      <td>family movie</td>\n      <td>3</td>\n    </tr>\n    <tr>\n      <th>3</th>\n      <td>53</td>\n      <td>Pretty Woman (1990)</td>\n      <td>romance</td>\n      <td>5</td>\n      <td>5.0</td>\n      <td>6to10</td>\n      <td>5</td>\n      <td>4</td>\n      <td>love</td>\n      <td>good endings</td>\n      <td>family movie</td>\n      <td>3</td>\n    </tr>\n    <tr>\n      <th>4</th>\n      <td>64</td>\n      <td>Titanic (1997)</td>\n      <td>romance</td>\n      <td>5</td>\n      <td>5.0</td>\n      <td>gt10</td>\n      <td>5</td>\n      <td>4</td>\n      <td>Love bird</td>\n      <td>Blind</td>\n      <td>Puppy Love</td>\n      <td>3</td>\n    </tr>\n  </tbody>\n</table>\n</div>"
     },
     "execution_count": 516,
     "metadata": {},
     "output_type": "execute_result"
    }
   ],
   "source": [
    "user_movie_tag[\"easy\"] = user_movie_tag.easy.replace({\"Strongly agree\": 5, \"Agree\": 4,\n",
    "                                  \"Disagree\": 2, \"Strongly disagree\": 1,\n",
    "                                  \"Neither agree nor disagree\": 3})\n",
    "user_movie_tag.head()"
   ],
   "metadata": {
    "collapsed": false,
    "pycharm": {
     "name": "#%%\n"
    }
   }
  },
  {
   "cell_type": "code",
   "execution_count": 517,
   "outputs": [
    {
     "data": {
      "text/plain": "   UID                movie      tag  rating  easy  how_long_ago  familiar  \\\n0    3       Titanic (1997)  romance       5   5.0           3.0         5   \n1   31       Titanic (1997)  romance       2   3.0           4.0         5   \n2   53       Titanic (1997)  romance       5   NaN           3.0         5   \n3   53  Pretty Woman (1990)  romance       5   5.0           3.0         5   \n4   64       Titanic (1997)  romance       5   5.0           4.0         5   \n\n   how_often      first         second         third  label  \n0          5       love  relationship      happiness      3  \n1          4       love         couple        family      3  \n2          4       love   good endings  family movie      3  \n3          4       love   good endings  family movie      3  \n4          4  Love bird          Blind    Puppy Love      3  ",
      "text/html": "<div>\n<style scoped>\n    .dataframe tbody tr th:only-of-type {\n        vertical-align: middle;\n    }\n\n    .dataframe tbody tr th {\n        vertical-align: top;\n    }\n\n    .dataframe thead th {\n        text-align: right;\n    }\n</style>\n<table border=\"1\" class=\"dataframe\">\n  <thead>\n    <tr style=\"text-align: right;\">\n      <th></th>\n      <th>UID</th>\n      <th>movie</th>\n      <th>tag</th>\n      <th>rating</th>\n      <th>easy</th>\n      <th>how_long_ago</th>\n      <th>familiar</th>\n      <th>how_often</th>\n      <th>first</th>\n      <th>second</th>\n      <th>third</th>\n      <th>label</th>\n    </tr>\n  </thead>\n  <tbody>\n    <tr>\n      <th>0</th>\n      <td>3</td>\n      <td>Titanic (1997)</td>\n      <td>romance</td>\n      <td>5</td>\n      <td>5.0</td>\n      <td>3.0</td>\n      <td>5</td>\n      <td>5</td>\n      <td>love</td>\n      <td>relationship</td>\n      <td>happiness</td>\n      <td>3</td>\n    </tr>\n    <tr>\n      <th>1</th>\n      <td>31</td>\n      <td>Titanic (1997)</td>\n      <td>romance</td>\n      <td>2</td>\n      <td>3.0</td>\n      <td>4.0</td>\n      <td>5</td>\n      <td>4</td>\n      <td>love</td>\n      <td>couple</td>\n      <td>family</td>\n      <td>3</td>\n    </tr>\n    <tr>\n      <th>2</th>\n      <td>53</td>\n      <td>Titanic (1997)</td>\n      <td>romance</td>\n      <td>5</td>\n      <td>NaN</td>\n      <td>3.0</td>\n      <td>5</td>\n      <td>4</td>\n      <td>love</td>\n      <td>good endings</td>\n      <td>family movie</td>\n      <td>3</td>\n    </tr>\n    <tr>\n      <th>3</th>\n      <td>53</td>\n      <td>Pretty Woman (1990)</td>\n      <td>romance</td>\n      <td>5</td>\n      <td>5.0</td>\n      <td>3.0</td>\n      <td>5</td>\n      <td>4</td>\n      <td>love</td>\n      <td>good endings</td>\n      <td>family movie</td>\n      <td>3</td>\n    </tr>\n    <tr>\n      <th>4</th>\n      <td>64</td>\n      <td>Titanic (1997)</td>\n      <td>romance</td>\n      <td>5</td>\n      <td>5.0</td>\n      <td>4.0</td>\n      <td>5</td>\n      <td>4</td>\n      <td>Love bird</td>\n      <td>Blind</td>\n      <td>Puppy Love</td>\n      <td>3</td>\n    </tr>\n  </tbody>\n</table>\n</div>"
     },
     "execution_count": 517,
     "metadata": {},
     "output_type": "execute_result"
    }
   ],
   "source": [
    "user_movie_tag[\"how_long_ago\"] = user_movie_tag.how_long_ago.replace({\"1to5\":2,\n",
    "                                                                                    \"gt10\":4,\n",
    "                                                                                    \"6to10\":3,\n",
    "                                                                                    \"1\":1,\n",
    "                                                                                    \"-1\":math.nan})\n",
    "user_movie_tag.head()"
   ],
   "metadata": {
    "collapsed": false,
    "pycharm": {
     "name": "#%%\n"
    }
   }
  },
  {
   "cell_type": "code",
   "execution_count": 518,
   "outputs": [
    {
     "data": {
      "text/plain": "   UID                movie      tag  rating  easy  how_long_ago  familiar  \\\n0    3       Titanic (1997)  romance       5   5.0           3.0         5   \n1   31       Titanic (1997)  romance       2   3.0           4.0         5   \n2   53       Titanic (1997)  romance       5   NaN           3.0         5   \n3   53  Pretty Woman (1990)  romance       5   5.0           3.0         5   \n4   64       Titanic (1997)  romance       5   5.0           4.0         5   \n\n   how_often      first         second         third  label  obj  subj  misc  \\\n0          5       love  relationship      happiness      3    0     0     0   \n1          4       love         couple        family      3    0     0     0   \n2          4       love   good endings  family movie      3    0     0     0   \n3          4       love   good endings  family movie      3    0     0     0   \n4          4  Love bird          Blind    Puppy Love      3    0     0     0   \n\n   genre  \n0      1  \n1      1  \n2      1  \n3      1  \n4      1  ",
      "text/html": "<div>\n<style scoped>\n    .dataframe tbody tr th:only-of-type {\n        vertical-align: middle;\n    }\n\n    .dataframe tbody tr th {\n        vertical-align: top;\n    }\n\n    .dataframe thead th {\n        text-align: right;\n    }\n</style>\n<table border=\"1\" class=\"dataframe\">\n  <thead>\n    <tr style=\"text-align: right;\">\n      <th></th>\n      <th>UID</th>\n      <th>movie</th>\n      <th>tag</th>\n      <th>rating</th>\n      <th>easy</th>\n      <th>how_long_ago</th>\n      <th>familiar</th>\n      <th>how_often</th>\n      <th>first</th>\n      <th>second</th>\n      <th>third</th>\n      <th>label</th>\n      <th>obj</th>\n      <th>subj</th>\n      <th>misc</th>\n      <th>genre</th>\n    </tr>\n  </thead>\n  <tbody>\n    <tr>\n      <th>0</th>\n      <td>3</td>\n      <td>Titanic (1997)</td>\n      <td>romance</td>\n      <td>5</td>\n      <td>5.0</td>\n      <td>3.0</td>\n      <td>5</td>\n      <td>5</td>\n      <td>love</td>\n      <td>relationship</td>\n      <td>happiness</td>\n      <td>3</td>\n      <td>0</td>\n      <td>0</td>\n      <td>0</td>\n      <td>1</td>\n    </tr>\n    <tr>\n      <th>1</th>\n      <td>31</td>\n      <td>Titanic (1997)</td>\n      <td>romance</td>\n      <td>2</td>\n      <td>3.0</td>\n      <td>4.0</td>\n      <td>5</td>\n      <td>4</td>\n      <td>love</td>\n      <td>couple</td>\n      <td>family</td>\n      <td>3</td>\n      <td>0</td>\n      <td>0</td>\n      <td>0</td>\n      <td>1</td>\n    </tr>\n    <tr>\n      <th>2</th>\n      <td>53</td>\n      <td>Titanic (1997)</td>\n      <td>romance</td>\n      <td>5</td>\n      <td>NaN</td>\n      <td>3.0</td>\n      <td>5</td>\n      <td>4</td>\n      <td>love</td>\n      <td>good endings</td>\n      <td>family movie</td>\n      <td>3</td>\n      <td>0</td>\n      <td>0</td>\n      <td>0</td>\n      <td>1</td>\n    </tr>\n    <tr>\n      <th>3</th>\n      <td>53</td>\n      <td>Pretty Woman (1990)</td>\n      <td>romance</td>\n      <td>5</td>\n      <td>5.0</td>\n      <td>3.0</td>\n      <td>5</td>\n      <td>4</td>\n      <td>love</td>\n      <td>good endings</td>\n      <td>family movie</td>\n      <td>3</td>\n      <td>0</td>\n      <td>0</td>\n      <td>0</td>\n      <td>1</td>\n    </tr>\n    <tr>\n      <th>4</th>\n      <td>64</td>\n      <td>Titanic (1997)</td>\n      <td>romance</td>\n      <td>5</td>\n      <td>5.0</td>\n      <td>4.0</td>\n      <td>5</td>\n      <td>4</td>\n      <td>Love bird</td>\n      <td>Blind</td>\n      <td>Puppy Love</td>\n      <td>3</td>\n      <td>0</td>\n      <td>0</td>\n      <td>0</td>\n      <td>1</td>\n    </tr>\n  </tbody>\n</table>\n</div>"
     },
     "execution_count": 518,
     "metadata": {},
     "output_type": "execute_result"
    }
   ],
   "source": [
    "user_movie_tag[\"obj\"] = (user_movie_tag[\"label\"] == 0).astype(int)\n",
    "user_movie_tag[\"subj\"] = (user_movie_tag[\"label\"] == 1).astype(int)\n",
    "user_movie_tag[\"misc\"] = (user_movie_tag[\"label\"] == 2).astype(int)\n",
    "user_movie_tag[\"genre\"] = (user_movie_tag[\"label\"] == 3).astype(int)\n",
    "user_movie_tag.head()"
   ],
   "metadata": {
    "collapsed": false,
    "pycharm": {
     "name": "#%%\n"
    }
   }
  },
  {
   "cell_type": "markdown",
   "source": [
    "#### Calculating the consistency field"
   ],
   "metadata": {
    "collapsed": false,
    "pycharm": {
     "name": "#%% md\n"
    }
   }
  },
  {
   "cell_type": "code",
   "execution_count": 519,
   "outputs": [
    {
     "data": {
      "text/plain": "                                   movie            tag  mode\n0      Ace Ventura: Pet Detective (1994)         comedy     5\n1      Ace Ventura: Pet Detective (1994)  culture clash     3\n2      Ace Ventura: Pet Detective (1994)          drama     1\n3      Ace Ventura: Pet Detective (1994)       humorous     5\n4  Ace Ventura: When Nature Calls (1995)         stupid     5",
      "text/html": "<div>\n<style scoped>\n    .dataframe tbody tr th:only-of-type {\n        vertical-align: middle;\n    }\n\n    .dataframe tbody tr th {\n        vertical-align: top;\n    }\n\n    .dataframe thead th {\n        text-align: right;\n    }\n</style>\n<table border=\"1\" class=\"dataframe\">\n  <thead>\n    <tr style=\"text-align: right;\">\n      <th></th>\n      <th>movie</th>\n      <th>tag</th>\n      <th>mode</th>\n    </tr>\n  </thead>\n  <tbody>\n    <tr>\n      <th>0</th>\n      <td>Ace Ventura: Pet Detective (1994)</td>\n      <td>comedy</td>\n      <td>5</td>\n    </tr>\n    <tr>\n      <th>1</th>\n      <td>Ace Ventura: Pet Detective (1994)</td>\n      <td>culture clash</td>\n      <td>3</td>\n    </tr>\n    <tr>\n      <th>2</th>\n      <td>Ace Ventura: Pet Detective (1994)</td>\n      <td>drama</td>\n      <td>1</td>\n    </tr>\n    <tr>\n      <th>3</th>\n      <td>Ace Ventura: Pet Detective (1994)</td>\n      <td>humorous</td>\n      <td>5</td>\n    </tr>\n    <tr>\n      <th>4</th>\n      <td>Ace Ventura: When Nature Calls (1995)</td>\n      <td>stupid</td>\n      <td>5</td>\n    </tr>\n  </tbody>\n</table>\n</div>"
     },
     "execution_count": 519,
     "metadata": {},
     "output_type": "execute_result"
    }
   ],
   "source": [
    "user_movie_tag_mode =  user_movie_tag.groupby([\"movie\", \"tag\"]).rating.agg(lambda x:x.value_counts().index[0]).reset_index()\n",
    "user_movie_tag_mode = user_movie_tag_mode.rename(columns={\"rating\":\"mode\"})\n",
    "user_movie_tag_mode.head()"
   ],
   "metadata": {
    "collapsed": false,
    "pycharm": {
     "name": "#%%\n"
    }
   }
  },
  {
   "cell_type": "code",
   "execution_count": 520,
   "outputs": [
    {
     "data": {
      "text/plain": "   UID           movie      tag  rating  easy  how_long_ago  familiar  \\\n0    3  Titanic (1997)  romance       5   5.0           3.0         5   \n1   31  Titanic (1997)  romance       2   3.0           4.0         5   \n2   53  Titanic (1997)  romance       5   NaN           3.0         5   \n3   64  Titanic (1997)  romance       5   5.0           4.0         5   \n4   76  Titanic (1997)  romance       4   4.0           4.0         5   \n\n   how_often         first           second         third  label  obj  subj  \\\n0          5          love    relationship      happiness      3    0     0   \n1          4          love           couple        family      3    0     0   \n2          4          love     good endings  family movie      3    0     0   \n3          4     Love bird            Blind    Puppy Love      3    0     0   \n4          5  feeling love  arouse position   mood of sex      3    0     0   \n\n   misc  genre  mode  \n0     0      1     5  \n1     0      1     5  \n2     0      1     5  \n3     0      1     5  \n4     0      1     5  ",
      "text/html": "<div>\n<style scoped>\n    .dataframe tbody tr th:only-of-type {\n        vertical-align: middle;\n    }\n\n    .dataframe tbody tr th {\n        vertical-align: top;\n    }\n\n    .dataframe thead th {\n        text-align: right;\n    }\n</style>\n<table border=\"1\" class=\"dataframe\">\n  <thead>\n    <tr style=\"text-align: right;\">\n      <th></th>\n      <th>UID</th>\n      <th>movie</th>\n      <th>tag</th>\n      <th>rating</th>\n      <th>easy</th>\n      <th>how_long_ago</th>\n      <th>familiar</th>\n      <th>how_often</th>\n      <th>first</th>\n      <th>second</th>\n      <th>third</th>\n      <th>label</th>\n      <th>obj</th>\n      <th>subj</th>\n      <th>misc</th>\n      <th>genre</th>\n      <th>mode</th>\n    </tr>\n  </thead>\n  <tbody>\n    <tr>\n      <th>0</th>\n      <td>3</td>\n      <td>Titanic (1997)</td>\n      <td>romance</td>\n      <td>5</td>\n      <td>5.0</td>\n      <td>3.0</td>\n      <td>5</td>\n      <td>5</td>\n      <td>love</td>\n      <td>relationship</td>\n      <td>happiness</td>\n      <td>3</td>\n      <td>0</td>\n      <td>0</td>\n      <td>0</td>\n      <td>1</td>\n      <td>5</td>\n    </tr>\n    <tr>\n      <th>1</th>\n      <td>31</td>\n      <td>Titanic (1997)</td>\n      <td>romance</td>\n      <td>2</td>\n      <td>3.0</td>\n      <td>4.0</td>\n      <td>5</td>\n      <td>4</td>\n      <td>love</td>\n      <td>couple</td>\n      <td>family</td>\n      <td>3</td>\n      <td>0</td>\n      <td>0</td>\n      <td>0</td>\n      <td>1</td>\n      <td>5</td>\n    </tr>\n    <tr>\n      <th>2</th>\n      <td>53</td>\n      <td>Titanic (1997)</td>\n      <td>romance</td>\n      <td>5</td>\n      <td>NaN</td>\n      <td>3.0</td>\n      <td>5</td>\n      <td>4</td>\n      <td>love</td>\n      <td>good endings</td>\n      <td>family movie</td>\n      <td>3</td>\n      <td>0</td>\n      <td>0</td>\n      <td>0</td>\n      <td>1</td>\n      <td>5</td>\n    </tr>\n    <tr>\n      <th>3</th>\n      <td>64</td>\n      <td>Titanic (1997)</td>\n      <td>romance</td>\n      <td>5</td>\n      <td>5.0</td>\n      <td>4.0</td>\n      <td>5</td>\n      <td>4</td>\n      <td>Love bird</td>\n      <td>Blind</td>\n      <td>Puppy Love</td>\n      <td>3</td>\n      <td>0</td>\n      <td>0</td>\n      <td>0</td>\n      <td>1</td>\n      <td>5</td>\n    </tr>\n    <tr>\n      <th>4</th>\n      <td>76</td>\n      <td>Titanic (1997)</td>\n      <td>romance</td>\n      <td>4</td>\n      <td>4.0</td>\n      <td>4.0</td>\n      <td>5</td>\n      <td>5</td>\n      <td>feeling love</td>\n      <td>arouse position</td>\n      <td>mood of sex</td>\n      <td>3</td>\n      <td>0</td>\n      <td>0</td>\n      <td>0</td>\n      <td>1</td>\n      <td>5</td>\n    </tr>\n  </tbody>\n</table>\n</div>"
     },
     "execution_count": 520,
     "metadata": {},
     "output_type": "execute_result"
    }
   ],
   "source": [
    "user_movie_tag = pd.merge( user_movie_tag, user_movie_tag_mode, on=[\"movie\", \"tag\"])\n",
    "user_movie_tag.head()"
   ],
   "metadata": {
    "collapsed": false,
    "pycharm": {
     "name": "#%%\n"
    }
   }
  },
  {
   "cell_type": "code",
   "execution_count": 521,
   "outputs": [
    {
     "data": {
      "text/plain": "   UID           movie      tag  rating  easy  how_long_ago  familiar  \\\n0    3  Titanic (1997)  romance       5   5.0           3.0         5   \n1   31  Titanic (1997)  romance       2   3.0           4.0         5   \n2   53  Titanic (1997)  romance       5   NaN           3.0         5   \n3   64  Titanic (1997)  romance       5   5.0           4.0         5   \n4   76  Titanic (1997)  romance       4   4.0           4.0         5   \n\n   how_often         first           second         third  label  obj  subj  \\\n0          5          love    relationship      happiness      3    0     0   \n1          4          love           couple        family      3    0     0   \n2          4          love     good endings  family movie      3    0     0   \n3          4     Love bird            Blind    Puppy Love      3    0     0   \n4          5  feeling love  arouse position   mood of sex      3    0     0   \n\n   misc  genre  mode  consistency  \n0     0      1     5            1  \n1     0      1     5            0  \n2     0      1     5            1  \n3     0      1     5            1  \n4     0      1     5            0  ",
      "text/html": "<div>\n<style scoped>\n    .dataframe tbody tr th:only-of-type {\n        vertical-align: middle;\n    }\n\n    .dataframe tbody tr th {\n        vertical-align: top;\n    }\n\n    .dataframe thead th {\n        text-align: right;\n    }\n</style>\n<table border=\"1\" class=\"dataframe\">\n  <thead>\n    <tr style=\"text-align: right;\">\n      <th></th>\n      <th>UID</th>\n      <th>movie</th>\n      <th>tag</th>\n      <th>rating</th>\n      <th>easy</th>\n      <th>how_long_ago</th>\n      <th>familiar</th>\n      <th>how_often</th>\n      <th>first</th>\n      <th>second</th>\n      <th>third</th>\n      <th>label</th>\n      <th>obj</th>\n      <th>subj</th>\n      <th>misc</th>\n      <th>genre</th>\n      <th>mode</th>\n      <th>consistency</th>\n    </tr>\n  </thead>\n  <tbody>\n    <tr>\n      <th>0</th>\n      <td>3</td>\n      <td>Titanic (1997)</td>\n      <td>romance</td>\n      <td>5</td>\n      <td>5.0</td>\n      <td>3.0</td>\n      <td>5</td>\n      <td>5</td>\n      <td>love</td>\n      <td>relationship</td>\n      <td>happiness</td>\n      <td>3</td>\n      <td>0</td>\n      <td>0</td>\n      <td>0</td>\n      <td>1</td>\n      <td>5</td>\n      <td>1</td>\n    </tr>\n    <tr>\n      <th>1</th>\n      <td>31</td>\n      <td>Titanic (1997)</td>\n      <td>romance</td>\n      <td>2</td>\n      <td>3.0</td>\n      <td>4.0</td>\n      <td>5</td>\n      <td>4</td>\n      <td>love</td>\n      <td>couple</td>\n      <td>family</td>\n      <td>3</td>\n      <td>0</td>\n      <td>0</td>\n      <td>0</td>\n      <td>1</td>\n      <td>5</td>\n      <td>0</td>\n    </tr>\n    <tr>\n      <th>2</th>\n      <td>53</td>\n      <td>Titanic (1997)</td>\n      <td>romance</td>\n      <td>5</td>\n      <td>NaN</td>\n      <td>3.0</td>\n      <td>5</td>\n      <td>4</td>\n      <td>love</td>\n      <td>good endings</td>\n      <td>family movie</td>\n      <td>3</td>\n      <td>0</td>\n      <td>0</td>\n      <td>0</td>\n      <td>1</td>\n      <td>5</td>\n      <td>1</td>\n    </tr>\n    <tr>\n      <th>3</th>\n      <td>64</td>\n      <td>Titanic (1997)</td>\n      <td>romance</td>\n      <td>5</td>\n      <td>5.0</td>\n      <td>4.0</td>\n      <td>5</td>\n      <td>4</td>\n      <td>Love bird</td>\n      <td>Blind</td>\n      <td>Puppy Love</td>\n      <td>3</td>\n      <td>0</td>\n      <td>0</td>\n      <td>0</td>\n      <td>1</td>\n      <td>5</td>\n      <td>1</td>\n    </tr>\n    <tr>\n      <th>4</th>\n      <td>76</td>\n      <td>Titanic (1997)</td>\n      <td>romance</td>\n      <td>4</td>\n      <td>4.0</td>\n      <td>4.0</td>\n      <td>5</td>\n      <td>5</td>\n      <td>feeling love</td>\n      <td>arouse position</td>\n      <td>mood of sex</td>\n      <td>3</td>\n      <td>0</td>\n      <td>0</td>\n      <td>0</td>\n      <td>1</td>\n      <td>5</td>\n      <td>0</td>\n    </tr>\n  </tbody>\n</table>\n</div>"
     },
     "execution_count": 521,
     "metadata": {},
     "output_type": "execute_result"
    }
   ],
   "source": [
    "user_movie_tag[\"consistency\"] = (user_movie_tag.rating == user_movie_tag[\"mode\"]).astype(int)\n",
    "user_movie_tag.head()"
   ],
   "metadata": {
    "collapsed": false,
    "pycharm": {
     "name": "#%%\n"
    }
   }
  },
  {
   "cell_type": "markdown",
   "source": [
    "#### Cleaning data"
   ],
   "metadata": {
    "collapsed": false,
    "pycharm": {
     "name": "#%% md\n"
    }
   }
  },
  {
   "cell_type": "code",
   "execution_count": 522,
   "outputs": [
    {
     "data": {
      "text/plain": "  UID           movie      tag rating familiar how_often  easy  how_long_ago  \\\n0   3  Titanic (1997)  romance      5        5         5   5.0           3.0   \n1  31  Titanic (1997)  romance      2        5         4   3.0           4.0   \n2  53  Titanic (1997)  romance      5        5         4   NaN           3.0   \n3  64  Titanic (1997)  romance      5        5         4   5.0           4.0   \n4  76  Titanic (1997)  romance      4        5         5   4.0           4.0   \n\n  consistency obj subj misc genre label  \n0           1   0    0    0     1     3  \n1           0   0    0    0     1     3  \n2           1   0    0    0     1     3  \n3           1   0    0    0     1     3  \n4           0   0    0    0     1     3  ",
      "text/html": "<div>\n<style scoped>\n    .dataframe tbody tr th:only-of-type {\n        vertical-align: middle;\n    }\n\n    .dataframe tbody tr th {\n        vertical-align: top;\n    }\n\n    .dataframe thead th {\n        text-align: right;\n    }\n</style>\n<table border=\"1\" class=\"dataframe\">\n  <thead>\n    <tr style=\"text-align: right;\">\n      <th></th>\n      <th>UID</th>\n      <th>movie</th>\n      <th>tag</th>\n      <th>rating</th>\n      <th>familiar</th>\n      <th>how_often</th>\n      <th>easy</th>\n      <th>how_long_ago</th>\n      <th>consistency</th>\n      <th>obj</th>\n      <th>subj</th>\n      <th>misc</th>\n      <th>genre</th>\n      <th>label</th>\n    </tr>\n  </thead>\n  <tbody>\n    <tr>\n      <th>0</th>\n      <td>3</td>\n      <td>Titanic (1997)</td>\n      <td>romance</td>\n      <td>5</td>\n      <td>5</td>\n      <td>5</td>\n      <td>5.0</td>\n      <td>3.0</td>\n      <td>1</td>\n      <td>0</td>\n      <td>0</td>\n      <td>0</td>\n      <td>1</td>\n      <td>3</td>\n    </tr>\n    <tr>\n      <th>1</th>\n      <td>31</td>\n      <td>Titanic (1997)</td>\n      <td>romance</td>\n      <td>2</td>\n      <td>5</td>\n      <td>4</td>\n      <td>3.0</td>\n      <td>4.0</td>\n      <td>0</td>\n      <td>0</td>\n      <td>0</td>\n      <td>0</td>\n      <td>1</td>\n      <td>3</td>\n    </tr>\n    <tr>\n      <th>2</th>\n      <td>53</td>\n      <td>Titanic (1997)</td>\n      <td>romance</td>\n      <td>5</td>\n      <td>5</td>\n      <td>4</td>\n      <td>NaN</td>\n      <td>3.0</td>\n      <td>1</td>\n      <td>0</td>\n      <td>0</td>\n      <td>0</td>\n      <td>1</td>\n      <td>3</td>\n    </tr>\n    <tr>\n      <th>3</th>\n      <td>64</td>\n      <td>Titanic (1997)</td>\n      <td>romance</td>\n      <td>5</td>\n      <td>5</td>\n      <td>4</td>\n      <td>5.0</td>\n      <td>4.0</td>\n      <td>1</td>\n      <td>0</td>\n      <td>0</td>\n      <td>0</td>\n      <td>1</td>\n      <td>3</td>\n    </tr>\n    <tr>\n      <th>4</th>\n      <td>76</td>\n      <td>Titanic (1997)</td>\n      <td>romance</td>\n      <td>4</td>\n      <td>5</td>\n      <td>5</td>\n      <td>4.0</td>\n      <td>4.0</td>\n      <td>0</td>\n      <td>0</td>\n      <td>0</td>\n      <td>0</td>\n      <td>1</td>\n      <td>3</td>\n    </tr>\n  </tbody>\n</table>\n</div>"
     },
     "execution_count": 522,
     "metadata": {},
     "output_type": "execute_result"
    }
   ],
   "source": [
    "user_movie_tag = user_movie_tag[['UID', 'movie', 'tag', 'rating',\n",
    "       'familiar', 'how_often',\n",
    "       'easy', 'how_long_ago', 'consistency', 'obj', 'subj',\n",
    "       'misc', 'genre', 'label']].replace({-1:None})\n",
    "user_movie_tag.head()"
   ],
   "metadata": {
    "collapsed": false,
    "pycharm": {
     "name": "#%%\n"
    }
   }
  },
  {
   "cell_type": "markdown",
   "source": [
    "#### Converting data types"
   ],
   "metadata": {
    "collapsed": false,
    "pycharm": {
     "name": "#%% md\n"
    }
   }
  },
  {
   "cell_type": "code",
   "execution_count": 523,
   "outputs": [
    {
     "name": "stdout",
     "output_type": "stream",
     "text": [
      "<class 'pandas.core.frame.DataFrame'>\n",
      "Int64Index: 3902 entries, 0 to 3901\n",
      "Data columns (total 14 columns):\n",
      " #   Column        Non-Null Count  Dtype  \n",
      "---  ------        --------------  -----  \n",
      " 0   UID           3902 non-null   object \n",
      " 1   movie         3902 non-null   object \n",
      " 2   tag           3902 non-null   object \n",
      " 3   rating        3902 non-null   object \n",
      " 4   familiar      3873 non-null   float64\n",
      " 5   how_often     3858 non-null   float64\n",
      " 6   easy          3708 non-null   float64\n",
      " 7   how_long_ago  3827 non-null   float64\n",
      " 8   consistency   3902 non-null   object \n",
      " 9   obj           3902 non-null   object \n",
      " 10  subj          3902 non-null   object \n",
      " 11  misc          3902 non-null   object \n",
      " 12  genre         3902 non-null   object \n",
      " 13  label         3902 non-null   float64\n",
      "dtypes: float64(5), object(9)\n",
      "memory usage: 457.3+ KB\n"
     ]
    }
   ],
   "source": [
    "for field in [\"label\", \"familiar\", \"how_often\", \"easy\", \"how_long_ago\"]:\n",
    "    user_movie_tag[field] = user_movie_tag[field].astype(\"float64\")\n",
    "user_movie_tag.info()"
   ],
   "metadata": {
    "collapsed": false,
    "pycharm": {
     "name": "#%%\n"
    }
   }
  },
  {
   "cell_type": "code",
   "execution_count": 524,
   "outputs": [
    {
     "name": "stdout",
     "output_type": "stream",
     "text": [
      "<class 'pandas.core.frame.DataFrame'>\n",
      "Int64Index: 3902 entries, 0 to 3901\n",
      "Data columns (total 14 columns):\n",
      " #   Column        Non-Null Count  Dtype  \n",
      "---  ------        --------------  -----  \n",
      " 0   UID           3902 non-null   object \n",
      " 1   movie         3902 non-null   object \n",
      " 2   tag           3902 non-null   object \n",
      " 3   rating        3902 non-null   int64  \n",
      " 4   familiar      3873 non-null   float64\n",
      " 5   how_often     3858 non-null   float64\n",
      " 6   easy          3708 non-null   float64\n",
      " 7   how_long_ago  3827 non-null   float64\n",
      " 8   consistency   3902 non-null   int64  \n",
      " 9   obj           3902 non-null   object \n",
      " 10  subj          3902 non-null   object \n",
      " 11  misc          3902 non-null   object \n",
      " 12  genre         3902 non-null   object \n",
      " 13  label         3902 non-null   float64\n",
      "dtypes: float64(5), int64(2), object(7)\n",
      "memory usage: 457.3+ KB\n"
     ]
    }
   ],
   "source": [
    "user_movie_tag.rating = user_movie_tag.rating.astype(int)\n",
    "user_movie_tag.consistency = user_movie_tag.consistency.astype(int)\n",
    "user_movie_tag.info()"
   ],
   "metadata": {
    "collapsed": false,
    "pycharm": {
     "name": "#%%\n"
    }
   }
  },
  {
   "cell_type": "code",
   "execution_count": 525,
   "outputs": [
    {
     "data": {
      "text/plain": "  UID           movie      tag  rating  familiar  how_often  easy  \\\n0   3  Titanic (1997)  romance       5       5.0        5.0   5.0   \n1  31  Titanic (1997)  romance       2       5.0        4.0   3.0   \n2  53  Titanic (1997)  romance       5       5.0        4.0   NaN   \n3  64  Titanic (1997)  romance       5       5.0        4.0   5.0   \n4  76  Titanic (1997)  romance       4       5.0        5.0   4.0   \n\n   how_long_ago  consistency obj subj misc genre  label category  \n0           3.0            1   0    0    0     1    3.0    genre  \n1           4.0            0   0    0    0     1    3.0    genre  \n2           3.0            1   0    0    0     1    3.0    genre  \n3           4.0            1   0    0    0     1    3.0    genre  \n4           4.0            0   0    0    0     1    3.0    genre  ",
      "text/html": "<div>\n<style scoped>\n    .dataframe tbody tr th:only-of-type {\n        vertical-align: middle;\n    }\n\n    .dataframe tbody tr th {\n        vertical-align: top;\n    }\n\n    .dataframe thead th {\n        text-align: right;\n    }\n</style>\n<table border=\"1\" class=\"dataframe\">\n  <thead>\n    <tr style=\"text-align: right;\">\n      <th></th>\n      <th>UID</th>\n      <th>movie</th>\n      <th>tag</th>\n      <th>rating</th>\n      <th>familiar</th>\n      <th>how_often</th>\n      <th>easy</th>\n      <th>how_long_ago</th>\n      <th>consistency</th>\n      <th>obj</th>\n      <th>subj</th>\n      <th>misc</th>\n      <th>genre</th>\n      <th>label</th>\n      <th>category</th>\n    </tr>\n  </thead>\n  <tbody>\n    <tr>\n      <th>0</th>\n      <td>3</td>\n      <td>Titanic (1997)</td>\n      <td>romance</td>\n      <td>5</td>\n      <td>5.0</td>\n      <td>5.0</td>\n      <td>5.0</td>\n      <td>3.0</td>\n      <td>1</td>\n      <td>0</td>\n      <td>0</td>\n      <td>0</td>\n      <td>1</td>\n      <td>3.0</td>\n      <td>genre</td>\n    </tr>\n    <tr>\n      <th>1</th>\n      <td>31</td>\n      <td>Titanic (1997)</td>\n      <td>romance</td>\n      <td>2</td>\n      <td>5.0</td>\n      <td>4.0</td>\n      <td>3.0</td>\n      <td>4.0</td>\n      <td>0</td>\n      <td>0</td>\n      <td>0</td>\n      <td>0</td>\n      <td>1</td>\n      <td>3.0</td>\n      <td>genre</td>\n    </tr>\n    <tr>\n      <th>2</th>\n      <td>53</td>\n      <td>Titanic (1997)</td>\n      <td>romance</td>\n      <td>5</td>\n      <td>5.0</td>\n      <td>4.0</td>\n      <td>NaN</td>\n      <td>3.0</td>\n      <td>1</td>\n      <td>0</td>\n      <td>0</td>\n      <td>0</td>\n      <td>1</td>\n      <td>3.0</td>\n      <td>genre</td>\n    </tr>\n    <tr>\n      <th>3</th>\n      <td>64</td>\n      <td>Titanic (1997)</td>\n      <td>romance</td>\n      <td>5</td>\n      <td>5.0</td>\n      <td>4.0</td>\n      <td>5.0</td>\n      <td>4.0</td>\n      <td>1</td>\n      <td>0</td>\n      <td>0</td>\n      <td>0</td>\n      <td>1</td>\n      <td>3.0</td>\n      <td>genre</td>\n    </tr>\n    <tr>\n      <th>4</th>\n      <td>76</td>\n      <td>Titanic (1997)</td>\n      <td>romance</td>\n      <td>4</td>\n      <td>5.0</td>\n      <td>5.0</td>\n      <td>4.0</td>\n      <td>4.0</td>\n      <td>0</td>\n      <td>0</td>\n      <td>0</td>\n      <td>0</td>\n      <td>1</td>\n      <td>3.0</td>\n      <td>genre</td>\n    </tr>\n  </tbody>\n</table>\n</div>"
     },
     "execution_count": 525,
     "metadata": {},
     "output_type": "execute_result"
    }
   ],
   "source": [
    "user_movie_tag[\"category\"] = user_movie_tag.label\n",
    "user_movie_tag[\"category\"] = user_movie_tag[\"category\"].replace(to_replace=0, value=\"objective\")\n",
    "user_movie_tag[\"category\"] = user_movie_tag[\"category\"].replace(to_replace=1, value=\"misc\")\n",
    "user_movie_tag[\"category\"] = user_movie_tag[\"category\"].replace(to_replace=2, value=\"subjective\")\n",
    "user_movie_tag[\"category\"] = user_movie_tag[\"category\"].replace(to_replace=3, value=\"genre\")\n",
    "user_movie_tag.head()"
   ],
   "metadata": {
    "collapsed": false,
    "pycharm": {
     "name": "#%%\n"
    }
   }
  },
  {
   "cell_type": "markdown",
   "source": [
    "### Generating charts\n",
    "#### Correlation matrix"
   ],
   "metadata": {
    "collapsed": false,
    "pycharm": {
     "name": "#%% md\n"
    }
   }
  },
  {
   "cell_type": "code",
   "execution_count": 526,
   "outputs": [
    {
     "data": {
      "text/plain": "              familiar  how_often      easy  how_long_ago    rating  \\\nfamiliar      1.000000   0.400384  0.217067      0.021903  0.131944   \nhow_often     0.400384   1.000000  0.090379     -0.066656  0.249644   \neasy          0.217067   0.090379  1.000000     -0.051846  0.432563   \nhow_long_ago  0.021903  -0.066656 -0.051846      1.000000 -0.018961   \nrating        0.131944   0.249644  0.432563     -0.018961  1.000000   \nconsistency   0.139118   0.089540  0.289462     -0.012199  0.367936   \n\n              consistency  \nfamiliar         0.139118  \nhow_often        0.089540  \neasy             0.289462  \nhow_long_ago    -0.012199  \nrating           0.367936  \nconsistency      1.000000  ",
      "text/html": "<div>\n<style scoped>\n    .dataframe tbody tr th:only-of-type {\n        vertical-align: middle;\n    }\n\n    .dataframe tbody tr th {\n        vertical-align: top;\n    }\n\n    .dataframe thead th {\n        text-align: right;\n    }\n</style>\n<table border=\"1\" class=\"dataframe\">\n  <thead>\n    <tr style=\"text-align: right;\">\n      <th></th>\n      <th>familiar</th>\n      <th>how_often</th>\n      <th>easy</th>\n      <th>how_long_ago</th>\n      <th>rating</th>\n      <th>consistency</th>\n    </tr>\n  </thead>\n  <tbody>\n    <tr>\n      <th>familiar</th>\n      <td>1.000000</td>\n      <td>0.400384</td>\n      <td>0.217067</td>\n      <td>0.021903</td>\n      <td>0.131944</td>\n      <td>0.139118</td>\n    </tr>\n    <tr>\n      <th>how_often</th>\n      <td>0.400384</td>\n      <td>1.000000</td>\n      <td>0.090379</td>\n      <td>-0.066656</td>\n      <td>0.249644</td>\n      <td>0.089540</td>\n    </tr>\n    <tr>\n      <th>easy</th>\n      <td>0.217067</td>\n      <td>0.090379</td>\n      <td>1.000000</td>\n      <td>-0.051846</td>\n      <td>0.432563</td>\n      <td>0.289462</td>\n    </tr>\n    <tr>\n      <th>how_long_ago</th>\n      <td>0.021903</td>\n      <td>-0.066656</td>\n      <td>-0.051846</td>\n      <td>1.000000</td>\n      <td>-0.018961</td>\n      <td>-0.012199</td>\n    </tr>\n    <tr>\n      <th>rating</th>\n      <td>0.131944</td>\n      <td>0.249644</td>\n      <td>0.432563</td>\n      <td>-0.018961</td>\n      <td>1.000000</td>\n      <td>0.367936</td>\n    </tr>\n    <tr>\n      <th>consistency</th>\n      <td>0.139118</td>\n      <td>0.089540</td>\n      <td>0.289462</td>\n      <td>-0.012199</td>\n      <td>0.367936</td>\n      <td>1.000000</td>\n    </tr>\n  </tbody>\n</table>\n</div>"
     },
     "execution_count": 526,
     "metadata": {},
     "output_type": "execute_result"
    }
   ],
   "source": [
    "corr_map = user_movie_tag[[\"familiar\", \"how_often\", \"easy\",\n",
    "                           \"how_long_ago\", \"rating\",\n",
    "                           \"consistency\"]].corr(method=\"spearman\")\n",
    "corr_map"
   ],
   "metadata": {
    "collapsed": false,
    "pycharm": {
     "name": "#%%\n"
    }
   }
  },
  {
   "cell_type": "code",
   "execution_count": 527,
   "outputs": [
    {
     "data": {
      "text/plain": "<Figure size 432x216 with 2 Axes>",
      "image/png": "[encoded data removed]"
     },
     "metadata": {
      "needs_background": "light"
     },
     "output_type": "display_data"
    }
   ],
   "source": [
    "plt.figure(figsize=(6, 3))\n",
    "x_axis_labels = [\"familiarity (Q4)\",\"frequency (Q5)\",\"ease (Q3)\",\n",
    "                 \"time gap (Q1)\", \"rating\", \"consistency\"]\n",
    "y_axis_labels = [\"familiarity\",\"frequency\",\"ease\",\n",
    "                 \"time gap\", \"rating\", \"consistency\"]\n",
    "heatmap = sns.heatmap(corr_map, annot=True,\n",
    "                      xticklabels=y_axis_labels, yticklabels=x_axis_labels)\n",
    "plt.tight_layout()\n",
    "heatmap.figure.savefig(\"charts/corr_map_spearman.pdf\")"
   ],
   "metadata": {
    "collapsed": false,
    "pycharm": {
     "name": "#%%\n"
    }
   }
  },
  {
   "cell_type": "markdown",
   "source": [
    "#### Proportions of consistent ratings per rating value and tag category"
   ],
   "metadata": {
    "collapsed": false,
    "pycharm": {
     "name": "#%% md\n"
    }
   }
  },
  {
   "cell_type": "code",
   "execution_count": 528,
   "outputs": [
    {
     "data": {
      "text/plain": "  category  rating  consistency  UID  relative_consistency\n0    genre       1           75  127              0.090551\n1    genre       2           27  103             -0.237864\n2    genre       3           10  122             -0.418033\n3    genre       4           57  182             -0.186813\n4    genre       5          363  410              0.385366",
      "text/html": "<div>\n<style scoped>\n    .dataframe tbody tr th:only-of-type {\n        vertical-align: middle;\n    }\n\n    .dataframe tbody tr th {\n        vertical-align: top;\n    }\n\n    .dataframe thead th {\n        text-align: right;\n    }\n</style>\n<table border=\"1\" class=\"dataframe\">\n  <thead>\n    <tr style=\"text-align: right;\">\n      <th></th>\n      <th>category</th>\n      <th>rating</th>\n      <th>consistency</th>\n      <th>UID</th>\n      <th>relative_consistency</th>\n    </tr>\n  </thead>\n  <tbody>\n    <tr>\n      <th>0</th>\n      <td>genre</td>\n      <td>1</td>\n      <td>75</td>\n      <td>127</td>\n      <td>0.090551</td>\n    </tr>\n    <tr>\n      <th>1</th>\n      <td>genre</td>\n      <td>2</td>\n      <td>27</td>\n      <td>103</td>\n      <td>-0.237864</td>\n    </tr>\n    <tr>\n      <th>2</th>\n      <td>genre</td>\n      <td>3</td>\n      <td>10</td>\n      <td>122</td>\n      <td>-0.418033</td>\n    </tr>\n    <tr>\n      <th>3</th>\n      <td>genre</td>\n      <td>4</td>\n      <td>57</td>\n      <td>182</td>\n      <td>-0.186813</td>\n    </tr>\n    <tr>\n      <th>4</th>\n      <td>genre</td>\n      <td>5</td>\n      <td>363</td>\n      <td>410</td>\n      <td>0.385366</td>\n    </tr>\n  </tbody>\n</table>\n</div>"
     },
     "execution_count": 528,
     "metadata": {},
     "output_type": "execute_result"
    }
   ],
   "source": [
    "user_movie_tag_cat_rating = user_movie_tag.groupby([\"category\", \"rating\"]).agg({\"consistency\":\"sum\", \"UID\":\"count\"}).reset_index()\n",
    "user_movie_tag_cat_rating.head()\n",
    "user_movie_tag_cat_rating[\"relative_consistency\"] = user_movie_tag_cat_rating.consistency / user_movie_tag_cat_rating.UID - 0.5\n",
    "user_movie_tag_cat_rating = user_movie_tag_cat_rating.sort_values(\"category\")\n",
    "user_movie_tag_cat_rating.head()"
   ],
   "metadata": {
    "collapsed": false,
    "pycharm": {
     "name": "#%%\n"
    }
   }
  },
  {
   "cell_type": "code",
   "execution_count": 529,
   "outputs": [
    {
     "data": {
      "text/plain": "<Figure size 432x216 with 1 Axes>",
      "image/png": "[encoded data removed]"
     },
     "metadata": {
      "needs_background": "light"
     },
     "output_type": "display_data"
    }
   ],
   "source": [
    "ax = plt.subplots(figsize=(6, 3))[1]\n",
    "sns.barplot(data=user_movie_tag_cat_rating, x=\"rating\", y=\"relative_consistency\", hue=\"category\", ax=ax)\n",
    "ax.set_ylabel(\"relative consistency\")\n",
    "ax.legend(loc='upper center')\n",
    "plt.tight_layout()\n",
    "ax.figure.savefig(\"charts/rating_categories_consistency.pdf\")"
   ],
   "metadata": {
    "collapsed": false,
    "pycharm": {
     "name": "#%%\n"
    }
   }
  },
  {
   "cell_type": "markdown",
   "source": [
    "\n",
    "#### Distribution of ease of rating scores for each rating value (1-5) for each of the four tag categories"
   ],
   "metadata": {
    "collapsed": false
   }
  },
  {
   "cell_type": "code",
   "execution_count": 530,
   "outputs": [
    {
     "data": {
      "text/plain": "  category  rating  easiness  easiness_count\n0    genre       1       1.0              27\n1    genre       1       2.0               3\n2    genre       1       3.0               2\n3    genre       1       4.0              34\n4    genre       1       5.0              55",
      "text/html": "<div>\n<style scoped>\n    .dataframe tbody tr th:only-of-type {\n        vertical-align: middle;\n    }\n\n    .dataframe tbody tr th {\n        vertical-align: top;\n    }\n\n    .dataframe thead th {\n        text-align: right;\n    }\n</style>\n<table border=\"1\" class=\"dataframe\">\n  <thead>\n    <tr style=\"text-align: right;\">\n      <th></th>\n      <th>category</th>\n      <th>rating</th>\n      <th>easiness</th>\n      <th>easiness_count</th>\n    </tr>\n  </thead>\n  <tbody>\n    <tr>\n      <th>0</th>\n      <td>genre</td>\n      <td>1</td>\n      <td>1.0</td>\n      <td>27</td>\n    </tr>\n    <tr>\n      <th>1</th>\n      <td>genre</td>\n      <td>1</td>\n      <td>2.0</td>\n      <td>3</td>\n    </tr>\n    <tr>\n      <th>2</th>\n      <td>genre</td>\n      <td>1</td>\n      <td>3.0</td>\n      <td>2</td>\n    </tr>\n    <tr>\n      <th>3</th>\n      <td>genre</td>\n      <td>1</td>\n      <td>4.0</td>\n      <td>34</td>\n    </tr>\n    <tr>\n      <th>4</th>\n      <td>genre</td>\n      <td>1</td>\n      <td>5.0</td>\n      <td>55</td>\n    </tr>\n  </tbody>\n</table>\n</div>"
     },
     "execution_count": 530,
     "metadata": {},
     "output_type": "execute_result"
    }
   ],
   "source": [
    "easiness_rating = user_movie_tag.groupby([\"category\", \"rating\", \"easy\"]).UID.count().reset_index()\n",
    "easiness_rating = easiness_rating.rename(columns={\"easy\":\"easiness\", \"UID\":\"easiness_count\"})\n",
    "easiness_rating.head()"
   ],
   "metadata": {
    "collapsed": false,
    "pycharm": {
     "name": "#%%\n"
    }
   }
  },
  {
   "cell_type": "code",
   "execution_count": 531,
   "outputs": [
    {
     "data": {
      "text/plain": "  category  rating  rating_count\n0    genre       1           127\n1    genre       2           103\n2    genre       3           122\n3    genre       4           182\n4    genre       5           410",
      "text/html": "<div>\n<style scoped>\n    .dataframe tbody tr th:only-of-type {\n        vertical-align: middle;\n    }\n\n    .dataframe tbody tr th {\n        vertical-align: top;\n    }\n\n    .dataframe thead th {\n        text-align: right;\n    }\n</style>\n<table border=\"1\" class=\"dataframe\">\n  <thead>\n    <tr style=\"text-align: right;\">\n      <th></th>\n      <th>category</th>\n      <th>rating</th>\n      <th>rating_count</th>\n    </tr>\n  </thead>\n  <tbody>\n    <tr>\n      <th>0</th>\n      <td>genre</td>\n      <td>1</td>\n      <td>127</td>\n    </tr>\n    <tr>\n      <th>1</th>\n      <td>genre</td>\n      <td>2</td>\n      <td>103</td>\n    </tr>\n    <tr>\n      <th>2</th>\n      <td>genre</td>\n      <td>3</td>\n      <td>122</td>\n    </tr>\n    <tr>\n      <th>3</th>\n      <td>genre</td>\n      <td>4</td>\n      <td>182</td>\n    </tr>\n    <tr>\n      <th>4</th>\n      <td>genre</td>\n      <td>5</td>\n      <td>410</td>\n    </tr>\n  </tbody>\n</table>\n</div>"
     },
     "execution_count": 531,
     "metadata": {},
     "output_type": "execute_result"
    }
   ],
   "source": [
    "rating_group = user_movie_tag.groupby([\"category\", \"rating\"]).UID.count().reset_index()\n",
    "rating_group = rating_group.rename(columns={\"UID\":\"rating_count\"})\n",
    "rating_group.head()"
   ],
   "metadata": {
    "collapsed": false,
    "pycharm": {
     "name": "#%%\n"
    }
   }
  },
  {
   "cell_type": "code",
   "execution_count": 532,
   "outputs": [
    {
     "data": {
      "text/plain": "  category  rating  easiness  easiness_count  rating_count\n0    genre       1       1.0              27           127\n1    genre       1       2.0               3           127\n2    genre       1       3.0               2           127\n3    genre       1       4.0              34           127\n4    genre       1       5.0              55           127",
      "text/html": "<div>\n<style scoped>\n    .dataframe tbody tr th:only-of-type {\n        vertical-align: middle;\n    }\n\n    .dataframe tbody tr th {\n        vertical-align: top;\n    }\n\n    .dataframe thead th {\n        text-align: right;\n    }\n</style>\n<table border=\"1\" class=\"dataframe\">\n  <thead>\n    <tr style=\"text-align: right;\">\n      <th></th>\n      <th>category</th>\n      <th>rating</th>\n      <th>easiness</th>\n      <th>easiness_count</th>\n      <th>rating_count</th>\n    </tr>\n  </thead>\n  <tbody>\n    <tr>\n      <th>0</th>\n      <td>genre</td>\n      <td>1</td>\n      <td>1.0</td>\n      <td>27</td>\n      <td>127</td>\n    </tr>\n    <tr>\n      <th>1</th>\n      <td>genre</td>\n      <td>1</td>\n      <td>2.0</td>\n      <td>3</td>\n      <td>127</td>\n    </tr>\n    <tr>\n      <th>2</th>\n      <td>genre</td>\n      <td>1</td>\n      <td>3.0</td>\n      <td>2</td>\n      <td>127</td>\n    </tr>\n    <tr>\n      <th>3</th>\n      <td>genre</td>\n      <td>1</td>\n      <td>4.0</td>\n      <td>34</td>\n      <td>127</td>\n    </tr>\n    <tr>\n      <th>4</th>\n      <td>genre</td>\n      <td>1</td>\n      <td>5.0</td>\n      <td>55</td>\n      <td>127</td>\n    </tr>\n  </tbody>\n</table>\n</div>"
     },
     "execution_count": 532,
     "metadata": {},
     "output_type": "execute_result"
    }
   ],
   "source": [
    "easiness_rating = pd.merge(easiness_rating, rating_group, on=[\"category\", \"rating\"], how=\"left\")\n",
    "easiness_rating.head()"
   ],
   "metadata": {
    "collapsed": false,
    "pycharm": {
     "name": "#%%\n"
    }
   }
  },
  {
   "cell_type": "code",
   "execution_count": 533,
   "outputs": [
    {
     "data": {
      "text/plain": "  category  rating  easiness  easiness_count  rating_count  relative_count\n0    genre       1       1.0              27           127        0.212598\n1    genre       1       2.0               3           127        0.023622\n2    genre       1       3.0               2           127        0.015748\n3    genre       1       4.0              34           127        0.267717\n4    genre       1       5.0              55           127        0.433071",
      "text/html": "<div>\n<style scoped>\n    .dataframe tbody tr th:only-of-type {\n        vertical-align: middle;\n    }\n\n    .dataframe tbody tr th {\n        vertical-align: top;\n    }\n\n    .dataframe thead th {\n        text-align: right;\n    }\n</style>\n<table border=\"1\" class=\"dataframe\">\n  <thead>\n    <tr style=\"text-align: right;\">\n      <th></th>\n      <th>category</th>\n      <th>rating</th>\n      <th>easiness</th>\n      <th>easiness_count</th>\n      <th>rating_count</th>\n      <th>relative_count</th>\n    </tr>\n  </thead>\n  <tbody>\n    <tr>\n      <th>0</th>\n      <td>genre</td>\n      <td>1</td>\n      <td>1.0</td>\n      <td>27</td>\n      <td>127</td>\n      <td>0.212598</td>\n    </tr>\n    <tr>\n      <th>1</th>\n      <td>genre</td>\n      <td>1</td>\n      <td>2.0</td>\n      <td>3</td>\n      <td>127</td>\n      <td>0.023622</td>\n    </tr>\n    <tr>\n      <th>2</th>\n      <td>genre</td>\n      <td>1</td>\n      <td>3.0</td>\n      <td>2</td>\n      <td>127</td>\n      <td>0.015748</td>\n    </tr>\n    <tr>\n      <th>3</th>\n      <td>genre</td>\n      <td>1</td>\n      <td>4.0</td>\n      <td>34</td>\n      <td>127</td>\n      <td>0.267717</td>\n    </tr>\n    <tr>\n      <th>4</th>\n      <td>genre</td>\n      <td>1</td>\n      <td>5.0</td>\n      <td>55</td>\n      <td>127</td>\n      <td>0.433071</td>\n    </tr>\n  </tbody>\n</table>\n</div>"
     },
     "execution_count": 533,
     "metadata": {},
     "output_type": "execute_result"
    }
   ],
   "source": [
    "easiness_rating[\"relative_count\"] = easiness_rating.easiness_count / easiness_rating.rating_count\n",
    "easiness_rating.head()"
   ],
   "metadata": {
    "collapsed": false,
    "pycharm": {
     "name": "#%%\n"
    }
   }
  },
  {
   "cell_type": "code",
   "execution_count": 534,
   "outputs": [
    {
     "data": {
      "text/plain": "<Figure size 432x216 with 1 Axes>",
      "image/png": "[encoded data removed]"
     },
     "metadata": {
      "needs_background": "light"
     },
     "output_type": "display_data"
    }
   ],
   "source": [
    "def draw_ratings_per_easiness(easiness_rating, category):\n",
    "    ax = plt.subplots(figsize=(6, 3))[1]\n",
    "    sns.barplot(data=easiness_rating[easiness_rating.category == category], x=\"rating\", y=\"relative_count\", hue=\"easiness\", ax=ax)\n",
    "    ax.set_ylabel(\"relative rating count\")\n",
    "    ax.legend(bbox_to_anchor=(1.05, 1), loc=2, borderaxespad=0., title=\"ease\")\n",
    "    plt.tight_layout()\n",
    "    ax.figure.savefig(f\"charts/ratings_per_easiness_{category}.pdf\")\n",
    "draw_ratings_per_easiness(easiness_rating, \"objective\")"
   ],
   "metadata": {
    "collapsed": false,
    "pycharm": {
     "name": "#%%\n"
    }
   }
  },
  {
   "cell_type": "code",
   "execution_count": 535,
   "outputs": [
    {
     "data": {
      "text/plain": "<Figure size 432x216 with 1 Axes>",
      "image/png": "[encoded data removed]"
     },
     "metadata": {
      "needs_background": "light"
     },
     "output_type": "display_data"
    }
   ],
   "source": [
    "draw_ratings_per_easiness(easiness_rating, \"subjective\")"
   ],
   "metadata": {
    "collapsed": false,
    "pycharm": {
     "name": "#%%\n"
    }
   }
  },
  {
   "cell_type": "code",
   "execution_count": 536,
   "outputs": [
    {
     "data": {
      "text/plain": "<Figure size 432x216 with 1 Axes>",
      "image/png": "[encoded data removed]"
     },
     "metadata": {
      "needs_background": "light"
     },
     "output_type": "display_data"
    }
   ],
   "source": [
    "draw_ratings_per_easiness(easiness_rating, \"misc\")"
   ],
   "metadata": {
    "collapsed": false,
    "pycharm": {
     "name": "#%%\n"
    }
   }
  },
  {
   "cell_type": "code",
   "execution_count": 537,
   "outputs": [
    {
     "data": {
      "text/plain": "<Figure size 432x216 with 1 Axes>",
      "image/png": "[encoded data removed]"
     },
     "metadata": {
      "needs_background": "light"
     },
     "output_type": "display_data"
    }
   ],
   "source": [
    "draw_ratings_per_easiness(easiness_rating, \"genre\")"
   ],
   "metadata": {
    "collapsed": false,
    "pycharm": {
     "name": "#%%\n"
    }
   }
  },
  {
   "cell_type": "markdown",
   "source": [
    "\n",
    "### Distribution of ratings based on rating value and tag category"
   ],
   "metadata": {
    "collapsed": false
   }
  },
  {
   "cell_type": "code",
   "execution_count": 538,
   "outputs": [
    {
     "data": {
      "text/plain": "     category  category_count\n0       genre             944\n1        misc             755\n2   objective            1228\n3  subjective             975",
      "text/html": "<div>\n<style scoped>\n    .dataframe tbody tr th:only-of-type {\n        vertical-align: middle;\n    }\n\n    .dataframe tbody tr th {\n        vertical-align: top;\n    }\n\n    .dataframe thead th {\n        text-align: right;\n    }\n</style>\n<table border=\"1\" class=\"dataframe\">\n  <thead>\n    <tr style=\"text-align: right;\">\n      <th></th>\n      <th>category</th>\n      <th>category_count</th>\n    </tr>\n  </thead>\n  <tbody>\n    <tr>\n      <th>0</th>\n      <td>genre</td>\n      <td>944</td>\n    </tr>\n    <tr>\n      <th>1</th>\n      <td>misc</td>\n      <td>755</td>\n    </tr>\n    <tr>\n      <th>2</th>\n      <td>objective</td>\n      <td>1228</td>\n    </tr>\n    <tr>\n      <th>3</th>\n      <td>subjective</td>\n      <td>975</td>\n    </tr>\n  </tbody>\n</table>\n</div>"
     },
     "execution_count": 538,
     "metadata": {},
     "output_type": "execute_result"
    }
   ],
   "source": [
    "rating_category_all = user_movie_tag.groupby([\"category\"]).UID.count().reset_index()\n",
    "rating_category_all = rating_category_all.rename(columns={\"UID\":\"category_count\"})\n",
    "rating_category_all.head()"
   ],
   "metadata": {
    "collapsed": false,
    "pycharm": {
     "name": "#%%\n"
    }
   }
  },
  {
   "cell_type": "code",
   "execution_count": 539,
   "outputs": [
    {
     "data": {
      "text/plain": "  category  rating  rating_category_count\n0    genre       1                    127\n1    genre       2                    103\n2    genre       3                    122\n3    genre       4                    182\n4    genre       5                    410",
      "text/html": "<div>\n<style scoped>\n    .dataframe tbody tr th:only-of-type {\n        vertical-align: middle;\n    }\n\n    .dataframe tbody tr th {\n        vertical-align: top;\n    }\n\n    .dataframe thead th {\n        text-align: right;\n    }\n</style>\n<table border=\"1\" class=\"dataframe\">\n  <thead>\n    <tr style=\"text-align: right;\">\n      <th></th>\n      <th>category</th>\n      <th>rating</th>\n      <th>rating_category_count</th>\n    </tr>\n  </thead>\n  <tbody>\n    <tr>\n      <th>0</th>\n      <td>genre</td>\n      <td>1</td>\n      <td>127</td>\n    </tr>\n    <tr>\n      <th>1</th>\n      <td>genre</td>\n      <td>2</td>\n      <td>103</td>\n    </tr>\n    <tr>\n      <th>2</th>\n      <td>genre</td>\n      <td>3</td>\n      <td>122</td>\n    </tr>\n    <tr>\n      <th>3</th>\n      <td>genre</td>\n      <td>4</td>\n      <td>182</td>\n    </tr>\n    <tr>\n      <th>4</th>\n      <td>genre</td>\n      <td>5</td>\n      <td>410</td>\n    </tr>\n  </tbody>\n</table>\n</div>"
     },
     "execution_count": 539,
     "metadata": {},
     "output_type": "execute_result"
    }
   ],
   "source": [
    "rating_category = user_movie_tag.groupby([\"category\", \"rating\"]).UID.count().reset_index()\n",
    "rating_category = rating_category.rename(columns={\"UID\":\"rating_category_count\"})\n",
    "rating_category.head()"
   ],
   "metadata": {
    "collapsed": false,
    "pycharm": {
     "name": "#%%\n"
    }
   }
  },
  {
   "cell_type": "code",
   "execution_count": 540,
   "outputs": [
    {
     "name": "stdout",
     "output_type": "stream",
     "text": [
      "20\n",
      "20\n",
      "  category  category_count  rating  rating_category_count\n",
      "0    genre             944       1                    127\n",
      "1    genre             944       2                    103\n",
      "2    genre             944       3                    122\n",
      "3    genre             944       4                    182\n",
      "4    genre             944       5                    410\n"
     ]
    }
   ],
   "source": [
    "print(len(rating_category))\n",
    "rating_category = pd.merge(rating_category_all, rating_category, on=\"category\", how=\"right\")\n",
    "print(len(rating_category))\n",
    "print(rating_category.head())"
   ],
   "metadata": {
    "collapsed": false,
    "pycharm": {
     "name": "#%%\n"
    }
   }
  },
  {
   "cell_type": "code",
   "execution_count": 541,
   "outputs": [
    {
     "data": {
      "text/plain": "  category  category_count  rating  rating_category_count  relative_count\n0    genre             944       1                    127        0.134534\n1    genre             944       2                    103        0.109110\n2    genre             944       3                    122        0.129237\n3    genre             944       4                    182        0.192797\n4    genre             944       5                    410        0.434322",
      "text/html": "<div>\n<style scoped>\n    .dataframe tbody tr th:only-of-type {\n        vertical-align: middle;\n    }\n\n    .dataframe tbody tr th {\n        vertical-align: top;\n    }\n\n    .dataframe thead th {\n        text-align: right;\n    }\n</style>\n<table border=\"1\" class=\"dataframe\">\n  <thead>\n    <tr style=\"text-align: right;\">\n      <th></th>\n      <th>category</th>\n      <th>category_count</th>\n      <th>rating</th>\n      <th>rating_category_count</th>\n      <th>relative_count</th>\n    </tr>\n  </thead>\n  <tbody>\n    <tr>\n      <th>0</th>\n      <td>genre</td>\n      <td>944</td>\n      <td>1</td>\n      <td>127</td>\n      <td>0.134534</td>\n    </tr>\n    <tr>\n      <th>1</th>\n      <td>genre</td>\n      <td>944</td>\n      <td>2</td>\n      <td>103</td>\n      <td>0.109110</td>\n    </tr>\n    <tr>\n      <th>2</th>\n      <td>genre</td>\n      <td>944</td>\n      <td>3</td>\n      <td>122</td>\n      <td>0.129237</td>\n    </tr>\n    <tr>\n      <th>3</th>\n      <td>genre</td>\n      <td>944</td>\n      <td>4</td>\n      <td>182</td>\n      <td>0.192797</td>\n    </tr>\n    <tr>\n      <th>4</th>\n      <td>genre</td>\n      <td>944</td>\n      <td>5</td>\n      <td>410</td>\n      <td>0.434322</td>\n    </tr>\n  </tbody>\n</table>\n</div>"
     },
     "execution_count": 541,
     "metadata": {},
     "output_type": "execute_result"
    }
   ],
   "source": [
    "rating_category[\"relative_count\"] = rating_category.rating_category_count / rating_category.category_count\n",
    "rating_category = rating_category.sort_values(\"category\")\n",
    "rating_category.head()"
   ],
   "metadata": {
    "collapsed": false,
    "pycharm": {
     "name": "#%%\n"
    }
   }
  },
  {
   "cell_type": "code",
   "execution_count": 542,
   "outputs": [
    {
     "data": {
      "text/plain": "<Figure size 432x216 with 1 Axes>",
      "image/png": "[encoded data removed]"
     },
     "metadata": {
      "needs_background": "light"
     },
     "output_type": "display_data"
    }
   ],
   "source": [
    "ax = plt.subplots(figsize=(6, 3))[1]\n",
    "sns.barplot(data=rating_category, x=\"rating\", y=\"relative_count\", hue=\"category\", ax=ax)\n",
    "ax.set_ylabel(\"relative rating count\")\n",
    "ax.legend(loc='upper left')\n",
    "plt.tight_layout()\n",
    "ax.figure.savefig(\"charts/rating_category_frac.pdf\")"
   ],
   "metadata": {
    "collapsed": false,
    "pycharm": {
     "name": "#%%\n"
    }
   }
  },
  {
   "cell_type": "markdown",
   "source": [
    "## Saving data for regression analysis in R"
   ],
   "metadata": {
    "collapsed": false
   }
  },
  {
   "cell_type": "code",
   "execution_count": 543,
   "outputs": [],
   "source": [
    "user_movie_tag.to_csv(\"transformed.csv\")"
   ],
   "metadata": {
    "collapsed": false,
    "pycharm": {
     "name": "#%%\n"
    }
   }
  },
  {
   "cell_type": "code",
   "execution_count": 543,
   "outputs": [],
   "source": [],
   "metadata": {
    "collapsed": false,
    "pycharm": {
     "name": "#%%"
    }
   }
  }
 ],
 "metadata": {
  "kernelspec": {
   "display_name": "Python 3",
   "language": "python",
   "name": "python3"
  },
  "language_info": {
   "codemirror_mode": {
    "name": "ipython",
    "version": 2
   },
   "file_extension": ".py",
   "mimetype": "text/x-python",
   "name": "python",
   "nbconvert_exporter": "python",
   "pygments_lexer": "ipython2",
   "version": "2.7.6"
  }
 },
 "nbformat": 4,
 "nbformat_minor": 0
}